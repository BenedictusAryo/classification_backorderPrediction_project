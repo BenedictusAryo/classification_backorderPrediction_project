{
 "cells": [
  {
   "cell_type": "markdown",
   "metadata": {},
   "source": [
    "# EDA & Preprocessing\n",
    "## Backorer Prediction from Kaggle"
   ]
  },
  {
   "cell_type": "markdown",
   "metadata": {},
   "source": [
    "## Context\n",
    "\n",
    "Part backorders is a common supply chain problem. Working to identify parts at risk of backorder before the event occurs so the business has time to react.\n",
    "\n",
    "### Content\n",
    "\n",
    "Training data file contains the historical data for the 8 weeks prior to the week we are trying to predict. The data was taken as weekly snapshots at the start of each week. Columns are defined as follows:\n",
    "\n",
    "sku - Random ID for the product\n",
    "\n",
    "national_inv - Current inventory level for the part\n",
    "\n",
    "lead_time - Transit time for product (if available)\n",
    "\n",
    "in_transit_qty - Amount of product in transit from source\n",
    "\n",
    "forecast_3_month - Forecast sales for the next 3 months\n",
    "\n",
    "forecast_6_month - Forecast sales for the next 6 months\n",
    "\n",
    "forecast_9_month - Forecast sales for the next 9 months\n",
    "\n",
    "sales_1_month - Sales quantity for the prior 1 month time period\n",
    "\n",
    "sales_3_month - Sales quantity for the prior 3 month time period\n",
    "\n",
    "sales_6_month - Sales quantity for the prior 6 month time period\n",
    "\n",
    "sales_9_month - Sales quantity for the prior 9 month time period\n",
    "\n",
    "min_bank - Minimum recommend amount to stock\n",
    "\n",
    "potential_issue - Source issue for part identified\n",
    "\n",
    "pieces_past_due - Parts overdue from source\n",
    "\n",
    "perf_6_month_avg - Source performance for prior 6 month period\n",
    "\n",
    "perf_12_month_avg - Source performance for prior 12 month period\n",
    "\n",
    "local_bo_qty - Amount of stock orders overdue\n",
    "\n",
    "deck_risk - Part risk flag\n",
    "\n",
    "oe_constraint - Part risk flag\n",
    "\n",
    "ppap_risk - Part risk flag\n",
    "\n",
    "stop_auto_buy - Part risk flag\n",
    "\n",
    "rev_stop - Part risk flag\n",
    "\n",
    "went_on_backorder - Product actually went on backorder. This is the target value."
   ]
  },
  {
   "cell_type": "code",
   "execution_count": 1,
   "metadata": {},
   "outputs": [
    {
     "name": "stderr",
     "output_type": "stream",
     "text": [
      "C:\\Python36\\lib\\site-packages\\statsmodels\\compat\\pandas.py:56: FutureWarning: The pandas.core.datetools module is deprecated and will be removed in a future version. Please use the pandas.tseries module instead.\n",
      "  from pandas.core import datetools\n"
     ]
    }
   ],
   "source": [
    "import numpy as np\n",
    "import scipy as sp\n",
    "import pandas as pd\n",
    "import statsmodels.api as sm\n",
    "import statsmodels.formula.api as smf\n",
    "import statsmodels.stats.api as sms\n",
    "import sklearn as sk\n",
    "\n",
    "import matplotlib as mpl\n",
    "import matplotlib.pylab as plt\n",
    "from mpl_toolkits.mplot3d import Axes3D\n",
    "\n",
    "import seaborn as sns\n",
    "sns.set()\n",
    "sns.set_style(\"whitegrid\")\n",
    "sns.set_color_codes()"
   ]
  },
  {
   "cell_type": "markdown",
   "metadata": {},
   "source": [
    "### Load data"
   ]
  },
  {
   "cell_type": "code",
   "execution_count": 2,
   "metadata": {},
   "outputs": [
    {
     "name": "stderr",
     "output_type": "stream",
     "text": [
      "C:\\Python36\\lib\\site-packages\\IPython\\core\\interactiveshell.py:2698: DtypeWarning: Columns (0) have mixed types. Specify dtype option on import or set low_memory=False.\n",
      "  interactivity=interactivity, compiler=compiler, result=result)\n"
     ]
    }
   ],
   "source": [
    "train = pd.read_csv(\"./data/Kaggle_Training_Dataset_v2.csv\")\n",
    "test = pd.read_csv(\"./data/Kaggle_Test_Dataset_v2.csv\")"
   ]
  },
  {
   "cell_type": "code",
   "execution_count": 49,
   "metadata": {},
   "outputs": [
    {
     "name": "stdout",
     "output_type": "stream",
     "text": [
      "<class 'pandas.core.frame.DataFrame'>\n",
      "RangeIndex: 1687861 entries, 0 to 1687860\n",
      "Data columns (total 23 columns):\n",
      "sku                  1687861 non-null object\n",
      "national_inv         1687860 non-null float32\n",
      "lead_time            1586967 non-null float32\n",
      "in_transit_qty       1687860 non-null float32\n",
      "forecast_3_month     1687860 non-null float32\n",
      "forecast_6_month     1687860 non-null float32\n",
      "forecast_9_month     1687860 non-null float32\n",
      "sales_1_month        1687860 non-null float32\n",
      "sales_3_month        1687860 non-null float32\n",
      "sales_6_month        1687860 non-null float32\n",
      "sales_9_month        1687860 non-null float32\n",
      "min_bank             1687860 non-null float32\n",
      "potential_issue      1687860 non-null object\n",
      "pieces_past_due      1687860 non-null float32\n",
      "perf_6_month_avg     1687860 non-null float32\n",
      "perf_12_month_avg    1687860 non-null float32\n",
      "local_bo_qty         1687860 non-null float32\n",
      "deck_risk            1687860 non-null object\n",
      "oe_constraint        1687860 non-null object\n",
      "ppap_risk            1687860 non-null object\n",
      "stop_auto_buy        1687860 non-null object\n",
      "rev_stop             1687860 non-null object\n",
      "went_on_backorder    1687860 non-null object\n",
      "dtypes: float32(15), object(8)\n",
      "memory usage: 199.6+ MB\n"
     ]
    }
   ],
   "source": [
    "train.info()"
   ]
  },
  {
   "cell_type": "code",
   "execution_count": 50,
   "metadata": {},
   "outputs": [
    {
     "name": "stdout",
     "output_type": "stream",
     "text": [
      "<class 'pandas.core.frame.DataFrame'>\n",
      "RangeIndex: 242076 entries, 0 to 242075\n",
      "Data columns (total 23 columns):\n",
      "sku                  242076 non-null object\n",
      "national_inv         242075 non-null float32\n",
      "lead_time            227351 non-null float32\n",
      "in_transit_qty       242075 non-null float32\n",
      "forecast_3_month     242075 non-null float32\n",
      "forecast_6_month     242075 non-null float32\n",
      "forecast_9_month     242075 non-null float32\n",
      "sales_1_month        242075 non-null float32\n",
      "sales_3_month        242075 non-null float32\n",
      "sales_6_month        242075 non-null float32\n",
      "sales_9_month        242075 non-null float32\n",
      "min_bank             242075 non-null float32\n",
      "potential_issue      242075 non-null object\n",
      "pieces_past_due      242075 non-null float32\n",
      "perf_6_month_avg     242075 non-null float32\n",
      "perf_12_month_avg    242075 non-null float32\n",
      "local_bo_qty         242075 non-null float32\n",
      "deck_risk            242075 non-null object\n",
      "oe_constraint        242075 non-null object\n",
      "ppap_risk            242075 non-null object\n",
      "stop_auto_buy        242075 non-null object\n",
      "rev_stop             242075 non-null object\n",
      "went_on_backorder    242075 non-null object\n",
      "dtypes: float32(15), object(8)\n",
      "memory usage: 28.6+ MB\n"
     ]
    }
   ],
   "source": [
    "test.info()"
   ]
  },
  {
   "cell_type": "code",
   "execution_count": 4,
   "metadata": {},
   "outputs": [
    {
     "data": {
      "text/plain": [
       "Index(['sku', 'national_inv', 'lead_time', 'in_transit_qty',\n",
       "       'forecast_3_month', 'forecast_6_month', 'forecast_9_month',\n",
       "       'sales_1_month', 'sales_3_month', 'sales_6_month', 'sales_9_month',\n",
       "       'min_bank', 'potential_issue', 'pieces_past_due', 'perf_6_month_avg',\n",
       "       'perf_12_month_avg', 'local_bo_qty', 'deck_risk', 'oe_constraint',\n",
       "       'ppap_risk', 'stop_auto_buy', 'rev_stop', 'went_on_backorder'],\n",
       "      dtype='object')"
      ]
     },
     "execution_count": 4,
     "metadata": {},
     "output_type": "execute_result"
    }
   ],
   "source": [
    "train.columns"
   ]
  },
  {
   "cell_type": "code",
   "execution_count": 5,
   "metadata": {},
   "outputs": [
    {
     "name": "stdout",
     "output_type": "stream",
     "text": [
      "<class 'pandas.core.frame.DataFrame'>\n",
      "RangeIndex: 1687861 entries, 0 to 1687860\n",
      "Columns: 23 entries, sku to went_on_backorder\n",
      "dtypes: float64(15), object(8)\n",
      "memory usage: 296.2+ MB\n"
     ]
    }
   ],
   "source": [
    "train.info(verbose=False)"
   ]
  },
  {
   "cell_type": "code",
   "execution_count": 6,
   "metadata": {},
   "outputs": [
    {
     "name": "stdout",
     "output_type": "stream",
     "text": [
      "<class 'pandas.core.frame.DataFrame'>\n",
      "RangeIndex: 242076 entries, 0 to 242075\n",
      "Columns: 23 entries, sku to went_on_backorder\n",
      "dtypes: float64(15), object(8)\n",
      "memory usage: 42.5+ MB\n"
     ]
    }
   ],
   "source": [
    "test.info(verbose=False)"
   ]
  },
  {
   "cell_type": "code",
   "execution_count": 7,
   "metadata": {},
   "outputs": [
    {
     "data": {
      "text/plain": [
       "0.14342176281103716"
      ]
     },
     "execution_count": 7,
     "metadata": {},
     "output_type": "execute_result"
    }
   ],
   "source": [
    "len(test.sku)/len(train.sku)"
   ]
  },
  {
   "cell_type": "code",
   "execution_count": 53,
   "metadata": {},
   "outputs": [
    {
     "data": {
      "text/plain": [
       "sku                       0\n",
       "national_inv              1\n",
       "lead_time            100894\n",
       "in_transit_qty            1\n",
       "forecast_3_month          1\n",
       "forecast_6_month          1\n",
       "forecast_9_month          1\n",
       "sales_1_month             1\n",
       "sales_3_month             1\n",
       "sales_6_month             1\n",
       "sales_9_month             1\n",
       "min_bank                  1\n",
       "potential_issue           1\n",
       "pieces_past_due           1\n",
       "perf_6_month_avg          1\n",
       "perf_12_month_avg         1\n",
       "local_bo_qty              1\n",
       "deck_risk                 1\n",
       "oe_constraint             1\n",
       "ppap_risk                 1\n",
       "stop_auto_buy             1\n",
       "rev_stop                  1\n",
       "went_on_backorder         1\n",
       "dtype: int64"
      ]
     },
     "execution_count": 53,
     "metadata": {},
     "output_type": "execute_result"
    }
   ],
   "source": [
    "train.isnull().sum()"
   ]
  },
  {
   "cell_type": "code",
   "execution_count": 54,
   "metadata": {},
   "outputs": [
    {
     "data": {
      "text/plain": [
       "sku                      0\n",
       "national_inv             1\n",
       "lead_time            14725\n",
       "in_transit_qty           1\n",
       "forecast_3_month         1\n",
       "forecast_6_month         1\n",
       "forecast_9_month         1\n",
       "sales_1_month            1\n",
       "sales_3_month            1\n",
       "sales_6_month            1\n",
       "sales_9_month            1\n",
       "min_bank                 1\n",
       "potential_issue          1\n",
       "pieces_past_due          1\n",
       "perf_6_month_avg         1\n",
       "perf_12_month_avg        1\n",
       "local_bo_qty             1\n",
       "deck_risk                1\n",
       "oe_constraint            1\n",
       "ppap_risk                1\n",
       "stop_auto_buy            1\n",
       "rev_stop                 1\n",
       "went_on_backorder        1\n",
       "dtype: int64"
      ]
     },
     "execution_count": 54,
     "metadata": {},
     "output_type": "execute_result"
    }
   ],
   "source": [
    "test.isnull().sum()"
   ]
  },
  {
   "cell_type": "markdown",
   "metadata": {},
   "source": [
    "### Interim check\n",
    "- found that dataset is large and only have dtype of float64 and object\n",
    "        - seperate float columns and object columns\n",
    "        - may can change into float32\n",
    "- test set is 14% compare to train set\n",
    "        - may too small\n",
    "        - should make validation set from train set\n",
    "        - maybe 2 datsets for validatation\n",
    "- found that dataset needs imputation of missing values\n",
    "        - especially \"lead_time\""
   ]
  },
  {
   "cell_type": "code",
   "execution_count": 8,
   "metadata": {
    "collapsed": true
   },
   "outputs": [],
   "source": [
    "float_cols = []\n",
    "object_cols = []"
   ]
  },
  {
   "cell_type": "code",
   "execution_count": 9,
   "metadata": {
    "collapsed": true
   },
   "outputs": [
    {
     "name": "stdout",
     "output_type": "stream",
     "text": [
      "12334404.0 \t national_inv\n",
      "nan \t lead_time\n",
      "489408.0 \t in_transit_qty\n",
      "1427612.0 \t forecast_3_month\n",
      "2461360.0 \t forecast_6_month\n",
      "3777304.0 \t forecast_9_month\n",
      "741774.0 \t sales_1_month\n",
      "1105478.0 \t sales_3_month\n",
      "2146625.0 \t sales_6_month\n",
      "3205172.0 \t sales_9_month\n",
      "313319.0 \t min_bank\n",
      "146496.0 \t pieces_past_due\n",
      "1.0 \t perf_6_month_avg\n",
      "1.0 \t perf_12_month_avg\n",
      "12530.0 \t local_bo_qty\n",
      "\n",
      "12145792.0 \t national_inv\n",
      "nan \t lead_time\n",
      "265272.0 \t in_transit_qty\n",
      "1510592.0 \t forecast_3_month\n",
      "2157024.0 \t forecast_6_month\n",
      "3162260.0 \t forecast_9_month\n",
      "349620.0 \t sales_1_month\n",
      "1099852.0 \t sales_3_month\n",
      "2103389.0 \t sales_6_month\n",
      "3195211.0 \t sales_9_month\n",
      "303713.0 \t min_bank\n",
      "79964.0 \t pieces_past_due\n",
      "1.0 \t perf_6_month_avg\n",
      "1.0 \t perf_12_month_avg\n",
      "6232.0 \t local_bo_qty\n",
      "\n",
      "sku\n",
      "potential_issue\n",
      "deck_risk\n",
      "oe_constraint\n",
      "ppap_risk\n",
      "stop_auto_buy\n",
      "rev_stop\n",
      "went_on_backorder\n"
     ]
    }
   ],
   "source": [
    "# checking for max float number \n",
    "## may can change dtype from float64 to float32 for memory saving\n",
    "\n",
    "for c, dtype in zip(train.columns, train.dtypes):\n",
    "    if dtype == np.float64:\n",
    "        float_cols.append(c)\n",
    "        print(max(train[c]), '\\t', c)\n",
    "        \n",
    "print()        \n",
    "for c, dtype in zip(test.columns, test.dtypes):\n",
    "    if dtype == np.float64:\n",
    "        print(max(test[c]), '\\t', c)\n",
    "\n",
    "print()\n",
    "for c, dtype in zip(test.columns, test.dtypes):\n",
    "    if dtype == object:\n",
    "        object_cols.append(c)\n",
    "        print(c)"
   ]
  },
  {
   "cell_type": "markdown",
   "metadata": {},
   "source": [
    "### Convert dtype float64 to float32\n",
    "- To reduce memory usage, converted data type"
   ]
  },
  {
   "cell_type": "code",
   "execution_count": 10,
   "metadata": {},
   "outputs": [
    {
     "name": "stdout",
     "output_type": "stream",
     "text": [
      "<class 'pandas.core.frame.DataFrame'>\n",
      "RangeIndex: 1687861 entries, 0 to 1687860\n",
      "Columns: 23 entries, sku to went_on_backorder\n",
      "dtypes: float32(15), object(8)\n",
      "memory usage: 199.6+ MB\n"
     ]
    }
   ],
   "source": [
    "for c, dtype in zip(train.columns, train.dtypes):\n",
    "    if dtype == np.float64:\n",
    "        train[c] = train[c].astype(np.float32)\n",
    "train.info(verbose=False)"
   ]
  },
  {
   "cell_type": "code",
   "execution_count": 11,
   "metadata": {},
   "outputs": [
    {
     "name": "stdout",
     "output_type": "stream",
     "text": [
      "<class 'pandas.core.frame.DataFrame'>\n",
      "RangeIndex: 242076 entries, 0 to 242075\n",
      "Columns: 23 entries, sku to went_on_backorder\n",
      "dtypes: float32(15), object(8)\n",
      "memory usage: 28.6+ MB\n"
     ]
    }
   ],
   "source": [
    "for c, dtype in zip(test.columns, test.dtypes):\n",
    "    if dtype == np.float64:\n",
    "        test[c] = test[c].astype(np.float32)\n",
    "test.info(verbose=False)"
   ]
  },
  {
   "cell_type": "code",
   "execution_count": 12,
   "metadata": {
    "scrolled": true
   },
   "outputs": [
    {
     "name": "stdout",
     "output_type": "stream",
     "text": [
      "['national_inv', 'lead_time', 'in_transit_qty', 'forecast_3_month', 'forecast_6_month', 'forecast_9_month', 'sales_1_month', 'sales_3_month', 'sales_6_month', 'sales_9_month', 'min_bank', 'pieces_past_due', 'perf_6_month_avg', 'perf_12_month_avg', 'local_bo_qty'] \n",
      " ['sku', 'potential_issue', 'deck_risk', 'oe_constraint', 'ppap_risk', 'stop_auto_buy', 'rev_stop', 'went_on_backorder']\n"
     ]
    }
   ],
   "source": [
    "print(float_cols, '\\n', object_cols)"
   ]
  },
  {
   "cell_type": "code",
   "execution_count": 24,
   "metadata": {},
   "outputs": [
    {
     "data": {
      "text/html": [
       "<div>\n",
       "<style>\n",
       "    .dataframe thead tr:only-child th {\n",
       "        text-align: right;\n",
       "    }\n",
       "\n",
       "    .dataframe thead th {\n",
       "        text-align: left;\n",
       "    }\n",
       "\n",
       "    .dataframe tbody tr th {\n",
       "        vertical-align: top;\n",
       "    }\n",
       "</style>\n",
       "<table border=\"1\" class=\"dataframe\">\n",
       "  <thead>\n",
       "    <tr style=\"text-align: right;\">\n",
       "      <th></th>\n",
       "      <th>national_inv</th>\n",
       "      <th>lead_time</th>\n",
       "      <th>in_transit_qty</th>\n",
       "      <th>forecast_3_month</th>\n",
       "      <th>forecast_6_month</th>\n",
       "      <th>forecast_9_month</th>\n",
       "      <th>sales_1_month</th>\n",
       "      <th>sales_3_month</th>\n",
       "      <th>sales_6_month</th>\n",
       "      <th>sales_9_month</th>\n",
       "      <th>min_bank</th>\n",
       "      <th>pieces_past_due</th>\n",
       "      <th>perf_6_month_avg</th>\n",
       "      <th>perf_12_month_avg</th>\n",
       "      <th>local_bo_qty</th>\n",
       "    </tr>\n",
       "  </thead>\n",
       "  <tbody>\n",
       "    <tr>\n",
       "      <th>1687856</th>\n",
       "      <td>-1.0</td>\n",
       "      <td>NaN</td>\n",
       "      <td>0.0</td>\n",
       "      <td>5.0</td>\n",
       "      <td>7.0</td>\n",
       "      <td>9.0</td>\n",
       "      <td>1.0</td>\n",
       "      <td>3.0</td>\n",
       "      <td>3.0</td>\n",
       "      <td>8.0</td>\n",
       "      <td>0.0</td>\n",
       "      <td>0.0</td>\n",
       "      <td>-99.00</td>\n",
       "      <td>-99.00</td>\n",
       "      <td>1.0</td>\n",
       "    </tr>\n",
       "    <tr>\n",
       "      <th>1687857</th>\n",
       "      <td>-1.0</td>\n",
       "      <td>9.0</td>\n",
       "      <td>0.0</td>\n",
       "      <td>7.0</td>\n",
       "      <td>9.0</td>\n",
       "      <td>11.0</td>\n",
       "      <td>0.0</td>\n",
       "      <td>8.0</td>\n",
       "      <td>11.0</td>\n",
       "      <td>12.0</td>\n",
       "      <td>0.0</td>\n",
       "      <td>0.0</td>\n",
       "      <td>0.86</td>\n",
       "      <td>0.84</td>\n",
       "      <td>1.0</td>\n",
       "    </tr>\n",
       "    <tr>\n",
       "      <th>1687858</th>\n",
       "      <td>62.0</td>\n",
       "      <td>9.0</td>\n",
       "      <td>16.0</td>\n",
       "      <td>39.0</td>\n",
       "      <td>87.0</td>\n",
       "      <td>126.0</td>\n",
       "      <td>35.0</td>\n",
       "      <td>63.0</td>\n",
       "      <td>153.0</td>\n",
       "      <td>205.0</td>\n",
       "      <td>12.0</td>\n",
       "      <td>0.0</td>\n",
       "      <td>0.86</td>\n",
       "      <td>0.84</td>\n",
       "      <td>6.0</td>\n",
       "    </tr>\n",
       "    <tr>\n",
       "      <th>1687859</th>\n",
       "      <td>19.0</td>\n",
       "      <td>4.0</td>\n",
       "      <td>0.0</td>\n",
       "      <td>0.0</td>\n",
       "      <td>0.0</td>\n",
       "      <td>0.0</td>\n",
       "      <td>2.0</td>\n",
       "      <td>7.0</td>\n",
       "      <td>12.0</td>\n",
       "      <td>20.0</td>\n",
       "      <td>1.0</td>\n",
       "      <td>0.0</td>\n",
       "      <td>0.73</td>\n",
       "      <td>0.78</td>\n",
       "      <td>1.0</td>\n",
       "    </tr>\n",
       "    <tr>\n",
       "      <th>1687860</th>\n",
       "      <td>NaN</td>\n",
       "      <td>NaN</td>\n",
       "      <td>NaN</td>\n",
       "      <td>NaN</td>\n",
       "      <td>NaN</td>\n",
       "      <td>NaN</td>\n",
       "      <td>NaN</td>\n",
       "      <td>NaN</td>\n",
       "      <td>NaN</td>\n",
       "      <td>NaN</td>\n",
       "      <td>NaN</td>\n",
       "      <td>NaN</td>\n",
       "      <td>NaN</td>\n",
       "      <td>NaN</td>\n",
       "      <td>NaN</td>\n",
       "    </tr>\n",
       "  </tbody>\n",
       "</table>\n",
       "</div>"
      ],
      "text/plain": [
       "         national_inv  lead_time  in_transit_qty  forecast_3_month  \\\n",
       "1687856          -1.0        NaN             0.0               5.0   \n",
       "1687857          -1.0        9.0             0.0               7.0   \n",
       "1687858          62.0        9.0            16.0              39.0   \n",
       "1687859          19.0        4.0             0.0               0.0   \n",
       "1687860           NaN        NaN             NaN               NaN   \n",
       "\n",
       "         forecast_6_month  forecast_9_month  sales_1_month  sales_3_month  \\\n",
       "1687856               7.0               9.0            1.0            3.0   \n",
       "1687857               9.0              11.0            0.0            8.0   \n",
       "1687858              87.0             126.0           35.0           63.0   \n",
       "1687859               0.0               0.0            2.0            7.0   \n",
       "1687860               NaN               NaN            NaN            NaN   \n",
       "\n",
       "         sales_6_month  sales_9_month  min_bank  pieces_past_due  \\\n",
       "1687856            3.0            8.0       0.0              0.0   \n",
       "1687857           11.0           12.0       0.0              0.0   \n",
       "1687858          153.0          205.0      12.0              0.0   \n",
       "1687859           12.0           20.0       1.0              0.0   \n",
       "1687860            NaN            NaN       NaN              NaN   \n",
       "\n",
       "         perf_6_month_avg  perf_12_month_avg  local_bo_qty  \n",
       "1687856            -99.00             -99.00           1.0  \n",
       "1687857              0.86               0.84           1.0  \n",
       "1687858              0.86               0.84           6.0  \n",
       "1687859              0.73               0.78           1.0  \n",
       "1687860               NaN                NaN           NaN  "
      ]
     },
     "execution_count": 24,
     "metadata": {},
     "output_type": "execute_result"
    }
   ],
   "source": [
    "train[float_cols].tail()"
   ]
  },
  {
   "cell_type": "code",
   "execution_count": 23,
   "metadata": {},
   "outputs": [
    {
     "data": {
      "text/html": [
       "<div>\n",
       "<style>\n",
       "    .dataframe thead tr:only-child th {\n",
       "        text-align: right;\n",
       "    }\n",
       "\n",
       "    .dataframe thead th {\n",
       "        text-align: left;\n",
       "    }\n",
       "\n",
       "    .dataframe tbody tr th {\n",
       "        vertical-align: top;\n",
       "    }\n",
       "</style>\n",
       "<table border=\"1\" class=\"dataframe\">\n",
       "  <thead>\n",
       "    <tr style=\"text-align: right;\">\n",
       "      <th></th>\n",
       "      <th>sku</th>\n",
       "      <th>potential_issue</th>\n",
       "      <th>deck_risk</th>\n",
       "      <th>oe_constraint</th>\n",
       "      <th>ppap_risk</th>\n",
       "      <th>stop_auto_buy</th>\n",
       "      <th>rev_stop</th>\n",
       "      <th>went_on_backorder</th>\n",
       "    </tr>\n",
       "  </thead>\n",
       "  <tbody>\n",
       "    <tr>\n",
       "      <th>1687856</th>\n",
       "      <td>1373987</td>\n",
       "      <td>No</td>\n",
       "      <td>No</td>\n",
       "      <td>No</td>\n",
       "      <td>No</td>\n",
       "      <td>Yes</td>\n",
       "      <td>No</td>\n",
       "      <td>No</td>\n",
       "    </tr>\n",
       "    <tr>\n",
       "      <th>1687857</th>\n",
       "      <td>1524346</td>\n",
       "      <td>No</td>\n",
       "      <td>Yes</td>\n",
       "      <td>No</td>\n",
       "      <td>No</td>\n",
       "      <td>No</td>\n",
       "      <td>No</td>\n",
       "      <td>Yes</td>\n",
       "    </tr>\n",
       "    <tr>\n",
       "      <th>1687858</th>\n",
       "      <td>1439563</td>\n",
       "      <td>No</td>\n",
       "      <td>No</td>\n",
       "      <td>No</td>\n",
       "      <td>No</td>\n",
       "      <td>Yes</td>\n",
       "      <td>No</td>\n",
       "      <td>No</td>\n",
       "    </tr>\n",
       "    <tr>\n",
       "      <th>1687859</th>\n",
       "      <td>1502009</td>\n",
       "      <td>No</td>\n",
       "      <td>No</td>\n",
       "      <td>No</td>\n",
       "      <td>No</td>\n",
       "      <td>Yes</td>\n",
       "      <td>No</td>\n",
       "      <td>No</td>\n",
       "    </tr>\n",
       "    <tr>\n",
       "      <th>1687860</th>\n",
       "      <td>(1687860 rows)</td>\n",
       "      <td>NaN</td>\n",
       "      <td>NaN</td>\n",
       "      <td>NaN</td>\n",
       "      <td>NaN</td>\n",
       "      <td>NaN</td>\n",
       "      <td>NaN</td>\n",
       "      <td>NaN</td>\n",
       "    </tr>\n",
       "  </tbody>\n",
       "</table>\n",
       "</div>"
      ],
      "text/plain": [
       "                    sku potential_issue deck_risk oe_constraint ppap_risk  \\\n",
       "1687856         1373987              No        No            No        No   \n",
       "1687857         1524346              No       Yes            No        No   \n",
       "1687858         1439563              No        No            No        No   \n",
       "1687859         1502009              No        No            No        No   \n",
       "1687860  (1687860 rows)             NaN       NaN           NaN       NaN   \n",
       "\n",
       "        stop_auto_buy rev_stop went_on_backorder  \n",
       "1687856           Yes       No                No  \n",
       "1687857            No       No               Yes  \n",
       "1687858           Yes       No                No  \n",
       "1687859           Yes       No                No  \n",
       "1687860           NaN      NaN               NaN  "
      ]
     },
     "execution_count": 23,
     "metadata": {},
     "output_type": "execute_result"
    }
   ],
   "source": [
    "train[object_cols].tail()"
   ]
  },
  {
   "cell_type": "code",
   "execution_count": 31,
   "metadata": {},
   "outputs": [
    {
     "data": {
      "text/html": [
       "<div>\n",
       "<style>\n",
       "    .dataframe thead tr:only-child th {\n",
       "        text-align: right;\n",
       "    }\n",
       "\n",
       "    .dataframe thead th {\n",
       "        text-align: left;\n",
       "    }\n",
       "\n",
       "    .dataframe tbody tr th {\n",
       "        vertical-align: top;\n",
       "    }\n",
       "</style>\n",
       "<table border=\"1\" class=\"dataframe\">\n",
       "  <thead>\n",
       "    <tr style=\"text-align: right;\">\n",
       "      <th></th>\n",
       "      <th>national_inv</th>\n",
       "      <th>lead_time</th>\n",
       "      <th>in_transit_qty</th>\n",
       "      <th>forecast_3_month</th>\n",
       "      <th>forecast_6_month</th>\n",
       "      <th>forecast_9_month</th>\n",
       "      <th>sales_1_month</th>\n",
       "      <th>sales_3_month</th>\n",
       "      <th>sales_6_month</th>\n",
       "      <th>sales_9_month</th>\n",
       "      <th>min_bank</th>\n",
       "      <th>pieces_past_due</th>\n",
       "      <th>perf_6_month_avg</th>\n",
       "      <th>perf_12_month_avg</th>\n",
       "      <th>local_bo_qty</th>\n",
       "    </tr>\n",
       "  </thead>\n",
       "  <tbody>\n",
       "    <tr>\n",
       "      <th>242071</th>\n",
       "      <td>13.0</td>\n",
       "      <td>12.0</td>\n",
       "      <td>0.0</td>\n",
       "      <td>0.0</td>\n",
       "      <td>0.0</td>\n",
       "      <td>0.0</td>\n",
       "      <td>0.0</td>\n",
       "      <td>0.0</td>\n",
       "      <td>0.0</td>\n",
       "      <td>0.0</td>\n",
       "      <td>1.0</td>\n",
       "      <td>0.0</td>\n",
       "      <td>0.48</td>\n",
       "      <td>0.48</td>\n",
       "      <td>0.0</td>\n",
       "    </tr>\n",
       "    <tr>\n",
       "      <th>242072</th>\n",
       "      <td>13.0</td>\n",
       "      <td>12.0</td>\n",
       "      <td>0.0</td>\n",
       "      <td>0.0</td>\n",
       "      <td>0.0</td>\n",
       "      <td>0.0</td>\n",
       "      <td>0.0</td>\n",
       "      <td>0.0</td>\n",
       "      <td>0.0</td>\n",
       "      <td>0.0</td>\n",
       "      <td>1.0</td>\n",
       "      <td>0.0</td>\n",
       "      <td>0.48</td>\n",
       "      <td>0.48</td>\n",
       "      <td>0.0</td>\n",
       "    </tr>\n",
       "    <tr>\n",
       "      <th>242073</th>\n",
       "      <td>10.0</td>\n",
       "      <td>12.0</td>\n",
       "      <td>0.0</td>\n",
       "      <td>0.0</td>\n",
       "      <td>0.0</td>\n",
       "      <td>0.0</td>\n",
       "      <td>0.0</td>\n",
       "      <td>0.0</td>\n",
       "      <td>0.0</td>\n",
       "      <td>0.0</td>\n",
       "      <td>1.0</td>\n",
       "      <td>0.0</td>\n",
       "      <td>0.48</td>\n",
       "      <td>0.48</td>\n",
       "      <td>0.0</td>\n",
       "    </tr>\n",
       "    <tr>\n",
       "      <th>242074</th>\n",
       "      <td>2913.0</td>\n",
       "      <td>12.0</td>\n",
       "      <td>0.0</td>\n",
       "      <td>0.0</td>\n",
       "      <td>0.0</td>\n",
       "      <td>0.0</td>\n",
       "      <td>0.0</td>\n",
       "      <td>30.0</td>\n",
       "      <td>88.0</td>\n",
       "      <td>88.0</td>\n",
       "      <td>4.0</td>\n",
       "      <td>0.0</td>\n",
       "      <td>0.48</td>\n",
       "      <td>0.48</td>\n",
       "      <td>0.0</td>\n",
       "    </tr>\n",
       "    <tr>\n",
       "      <th>242075</th>\n",
       "      <td>NaN</td>\n",
       "      <td>NaN</td>\n",
       "      <td>NaN</td>\n",
       "      <td>NaN</td>\n",
       "      <td>NaN</td>\n",
       "      <td>NaN</td>\n",
       "      <td>NaN</td>\n",
       "      <td>NaN</td>\n",
       "      <td>NaN</td>\n",
       "      <td>NaN</td>\n",
       "      <td>NaN</td>\n",
       "      <td>NaN</td>\n",
       "      <td>NaN</td>\n",
       "      <td>NaN</td>\n",
       "      <td>NaN</td>\n",
       "    </tr>\n",
       "  </tbody>\n",
       "</table>\n",
       "</div>"
      ],
      "text/plain": [
       "        national_inv  lead_time  in_transit_qty  forecast_3_month  \\\n",
       "242071          13.0       12.0             0.0               0.0   \n",
       "242072          13.0       12.0             0.0               0.0   \n",
       "242073          10.0       12.0             0.0               0.0   \n",
       "242074        2913.0       12.0             0.0               0.0   \n",
       "242075           NaN        NaN             NaN               NaN   \n",
       "\n",
       "        forecast_6_month  forecast_9_month  sales_1_month  sales_3_month  \\\n",
       "242071               0.0               0.0            0.0            0.0   \n",
       "242072               0.0               0.0            0.0            0.0   \n",
       "242073               0.0               0.0            0.0            0.0   \n",
       "242074               0.0               0.0            0.0           30.0   \n",
       "242075               NaN               NaN            NaN            NaN   \n",
       "\n",
       "        sales_6_month  sales_9_month  min_bank  pieces_past_due  \\\n",
       "242071            0.0            0.0       1.0              0.0   \n",
       "242072            0.0            0.0       1.0              0.0   \n",
       "242073            0.0            0.0       1.0              0.0   \n",
       "242074           88.0           88.0       4.0              0.0   \n",
       "242075            NaN            NaN       NaN              NaN   \n",
       "\n",
       "        perf_6_month_avg  perf_12_month_avg  local_bo_qty  \n",
       "242071              0.48               0.48           0.0  \n",
       "242072              0.48               0.48           0.0  \n",
       "242073              0.48               0.48           0.0  \n",
       "242074              0.48               0.48           0.0  \n",
       "242075               NaN                NaN           NaN  "
      ]
     },
     "execution_count": 31,
     "metadata": {},
     "output_type": "execute_result"
    }
   ],
   "source": [
    "test[float_cols].tail()"
   ]
  },
  {
   "cell_type": "code",
   "execution_count": 32,
   "metadata": {},
   "outputs": [
    {
     "data": {
      "text/html": [
       "<div>\n",
       "<style>\n",
       "    .dataframe thead tr:only-child th {\n",
       "        text-align: right;\n",
       "    }\n",
       "\n",
       "    .dataframe thead th {\n",
       "        text-align: left;\n",
       "    }\n",
       "\n",
       "    .dataframe tbody tr th {\n",
       "        vertical-align: top;\n",
       "    }\n",
       "</style>\n",
       "<table border=\"1\" class=\"dataframe\">\n",
       "  <thead>\n",
       "    <tr style=\"text-align: right;\">\n",
       "      <th></th>\n",
       "      <th>sku</th>\n",
       "      <th>potential_issue</th>\n",
       "      <th>deck_risk</th>\n",
       "      <th>oe_constraint</th>\n",
       "      <th>ppap_risk</th>\n",
       "      <th>stop_auto_buy</th>\n",
       "      <th>rev_stop</th>\n",
       "      <th>went_on_backorder</th>\n",
       "    </tr>\n",
       "  </thead>\n",
       "  <tbody>\n",
       "    <tr>\n",
       "      <th>242071</th>\n",
       "      <td>3526988</td>\n",
       "      <td>No</td>\n",
       "      <td>Yes</td>\n",
       "      <td>No</td>\n",
       "      <td>No</td>\n",
       "      <td>Yes</td>\n",
       "      <td>No</td>\n",
       "      <td>No</td>\n",
       "    </tr>\n",
       "    <tr>\n",
       "      <th>242072</th>\n",
       "      <td>3526989</td>\n",
       "      <td>No</td>\n",
       "      <td>Yes</td>\n",
       "      <td>No</td>\n",
       "      <td>No</td>\n",
       "      <td>Yes</td>\n",
       "      <td>No</td>\n",
       "      <td>No</td>\n",
       "    </tr>\n",
       "    <tr>\n",
       "      <th>242073</th>\n",
       "      <td>3526990</td>\n",
       "      <td>No</td>\n",
       "      <td>Yes</td>\n",
       "      <td>No</td>\n",
       "      <td>No</td>\n",
       "      <td>Yes</td>\n",
       "      <td>No</td>\n",
       "      <td>No</td>\n",
       "    </tr>\n",
       "    <tr>\n",
       "      <th>242074</th>\n",
       "      <td>3526991</td>\n",
       "      <td>No</td>\n",
       "      <td>Yes</td>\n",
       "      <td>No</td>\n",
       "      <td>No</td>\n",
       "      <td>Yes</td>\n",
       "      <td>No</td>\n",
       "      <td>No</td>\n",
       "    </tr>\n",
       "    <tr>\n",
       "      <th>242075</th>\n",
       "      <td>(242075 rows)</td>\n",
       "      <td>NaN</td>\n",
       "      <td>NaN</td>\n",
       "      <td>NaN</td>\n",
       "      <td>NaN</td>\n",
       "      <td>NaN</td>\n",
       "      <td>NaN</td>\n",
       "      <td>NaN</td>\n",
       "    </tr>\n",
       "  </tbody>\n",
       "</table>\n",
       "</div>"
      ],
      "text/plain": [
       "                  sku potential_issue deck_risk oe_constraint ppap_risk  \\\n",
       "242071        3526988              No       Yes            No        No   \n",
       "242072        3526989              No       Yes            No        No   \n",
       "242073        3526990              No       Yes            No        No   \n",
       "242074        3526991              No       Yes            No        No   \n",
       "242075  (242075 rows)             NaN       NaN           NaN       NaN   \n",
       "\n",
       "       stop_auto_buy rev_stop went_on_backorder  \n",
       "242071           Yes       No                No  \n",
       "242072           Yes       No                No  \n",
       "242073           Yes       No                No  \n",
       "242074           Yes       No                No  \n",
       "242075           NaN      NaN               NaN  "
      ]
     },
     "execution_count": 32,
     "metadata": {},
     "output_type": "execute_result"
    }
   ],
   "source": [
    "test[object_cols].tail()"
   ]
  },
  {
   "cell_type": "markdown",
   "metadata": {},
   "source": [
    "### Convert to binaries\n",
    "- last data record have all 'NaN' value\n",
    "- object dtype columns (except \"sku\") have 'Yes' or 'No'\n",
    "- look if it okay to convert into '1' and '0'"
   ]
  },
  {
   "cell_type": "code",
   "execution_count": 28,
   "metadata": {},
   "outputs": [
    {
     "name": "stdout",
     "output_type": "stream",
     "text": [
      "<class 'pandas.core.frame.DataFrame'>\n",
      "RangeIndex: 1687861 entries, 0 to 1687860\n",
      "Columns: 23 entries, sku to went_on_backorder\n",
      "dtypes: float32(15), object(8)\n",
      "memory usage: 199.6+ MB\n",
      "None\n",
      "\n",
      "<class 'pandas.core.frame.DataFrame'>\n",
      "RangeIndex: 242076 entries, 0 to 242075\n",
      "Columns: 23 entries, sku to went_on_backorder\n",
      "dtypes: float32(15), object(8)\n",
      "memory usage: 28.6+ MB\n",
      "None\n"
     ]
    }
   ],
   "source": [
    "print(train.info(verbose=False))\n",
    "print()\n",
    "print(test.info(verbose=False))"
   ]
  },
  {
   "cell_type": "code",
   "execution_count": 30,
   "metadata": {
    "collapsed": true
   },
   "outputs": [
    {
     "name": "stdout",
     "output_type": "stream",
     "text": [
      "potential_issue\n",
      "No     1686953\n",
      "Yes        907\n",
      "Name: potential_issue, dtype: int64\n",
      "1687860\n",
      "\n",
      "deck_risk\n",
      "No     1300377\n",
      "Yes     387483\n",
      "Name: deck_risk, dtype: int64\n",
      "1687860\n",
      "\n",
      "oe_constraint\n",
      "No     1687615\n",
      "Yes        245\n",
      "Name: oe_constraint, dtype: int64\n",
      "1687860\n",
      "\n",
      "ppap_risk\n",
      "No     1484026\n",
      "Yes     203834\n",
      "Name: ppap_risk, dtype: int64\n",
      "1687860\n",
      "\n",
      "stop_auto_buy\n",
      "Yes    1626774\n",
      "No       61086\n",
      "Name: stop_auto_buy, dtype: int64\n",
      "1687860\n",
      "\n",
      "rev_stop\n",
      "No     1687129\n",
      "Yes        731\n",
      "Name: rev_stop, dtype: int64\n",
      "1687860\n",
      "\n",
      "went_on_backorder\n",
      "No     1676567\n",
      "Yes      11293\n",
      "Name: went_on_backorder, dtype: int64\n",
      "1687860\n",
      "\n",
      "potential_issue\n",
      "No     241993\n",
      "Yes        82\n",
      "Name: potential_issue, dtype: int64\n",
      "242075\n",
      "\n",
      "deck_risk\n",
      "No     194105\n",
      "Yes     47970\n",
      "Name: deck_risk, dtype: int64\n",
      "242075\n",
      "\n",
      "oe_constraint\n",
      "No     242028\n",
      "Yes        47\n",
      "Name: oe_constraint, dtype: int64\n",
      "242075\n",
      "\n",
      "ppap_risk\n",
      "No     213357\n",
      "Yes     28718\n",
      "Name: ppap_risk, dtype: int64\n",
      "242075\n",
      "\n",
      "stop_auto_buy\n",
      "Yes    232617\n",
      "No       9458\n",
      "Name: stop_auto_buy, dtype: int64\n",
      "242075\n",
      "\n",
      "rev_stop\n",
      "No     241967\n",
      "Yes       108\n",
      "Name: rev_stop, dtype: int64\n",
      "242075\n",
      "\n",
      "went_on_backorder\n",
      "No     239387\n",
      "Yes      2688\n",
      "Name: went_on_backorder, dtype: int64\n",
      "242075\n",
      "\n"
     ]
    }
   ],
   "source": [
    "# sum of value counts be 1687860 in train data\n",
    "for i in object_cols[1:]:\n",
    "    print(i)\n",
    "    print(train[i].value_counts())\n",
    "    print(train[i].value_counts()[0] + train[i].value_counts()[1])\n",
    "    print()\n",
    "    \n",
    "# sum of value counts be 242075 in test data\n",
    "for i in object_cols[1:]:\n",
    "    print(i)\n",
    "    print(test[i].value_counts())\n",
    "    print(test[i].value_counts()[0] + test[i].value_counts()[1])\n",
    "    print()"
   ]
  },
  {
   "cell_type": "code",
   "execution_count": 47,
   "metadata": {},
   "outputs": [],
   "source": []
  },
  {
   "cell_type": "code",
   "execution_count": null,
   "metadata": {
    "collapsed": true
   },
   "outputs": [],
   "source": []
  },
  {
   "cell_type": "code",
   "execution_count": null,
   "metadata": {
    "collapsed": true
   },
   "outputs": [],
   "source": []
  },
  {
   "cell_type": "code",
   "execution_count": null,
   "metadata": {
    "collapsed": true
   },
   "outputs": [],
   "source": []
  },
  {
   "cell_type": "code",
   "execution_count": null,
   "metadata": {
    "collapsed": true
   },
   "outputs": [],
   "source": []
  },
  {
   "cell_type": "code",
   "execution_count": null,
   "metadata": {
    "collapsed": true
   },
   "outputs": [],
   "source": [
    "from sklearn.model_selection import train_test_split\n",
    "train_test_split()"
   ]
  }
 ],
 "metadata": {
  "kernelspec": {
   "display_name": "Python 3",
   "language": "python",
   "name": "python3"
  },
  "language_info": {
   "codemirror_mode": {
    "name": "ipython",
    "version": 3
   },
   "file_extension": ".py",
   "mimetype": "text/x-python",
   "name": "python",
   "nbconvert_exporter": "python",
   "pygments_lexer": "ipython3",
   "version": "3.6.1"
  }
 },
 "nbformat": 4,
 "nbformat_minor": 2
}
