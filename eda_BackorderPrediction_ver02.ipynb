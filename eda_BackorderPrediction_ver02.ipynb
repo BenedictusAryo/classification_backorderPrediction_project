{
 "cells": [
  {
   "cell_type": "markdown",
   "metadata": {},
   "source": [
    "# EDA & Preprocessing\n",
    "## Backorer Prediction from Kaggle"
   ]
  },
  {
   "cell_type": "markdown",
   "metadata": {},
   "source": [
    "## Context\n",
    "\n",
    "Part backorders is a common supply chain problem. Working to identify parts at risk of backorder before the event occurs so the business has time to react.\n",
    "\n",
    "### Content\n",
    "\n",
    "Training data file contains the historical data for the 8 weeks prior to the week we are trying to predict. The data was taken as weekly snapshots at the start of each week. Columns are defined as follows:\n",
    "\n",
    "sku - Random ID for the product\n",
    "\n",
    "national_inv - Current inventory level for the part\n",
    "\n",
    "lead_time - Transit time for product (if available)\n",
    "\n",
    "in_transit_qty - Amount of product in transit from source\n",
    "\n",
    "forecast_3_month - Forecast sales for the next 3 months\n",
    "\n",
    "forecast_6_month - Forecast sales for the next 6 months\n",
    "\n",
    "forecast_9_month - Forecast sales for the next 9 months\n",
    "\n",
    "sales_1_month - Sales quantity for the prior 1 month time period\n",
    "\n",
    "sales_3_month - Sales quantity for the prior 3 month time period\n",
    "\n",
    "sales_6_month - Sales quantity for the prior 6 month time period\n",
    "\n",
    "sales_9_month - Sales quantity for the prior 9 month time period\n",
    "\n",
    "min_bank - Minimum recommend amount to stock\n",
    "\n",
    "potential_issue - Source issue for part identified\n",
    "\n",
    "pieces_past_due - Parts overdue from source\n",
    "\n",
    "perf_6_month_avg - Source performance for prior 6 month period\n",
    "\n",
    "perf_12_month_avg - Source performance for prior 12 month period\n",
    "\n",
    "local_bo_qty - Amount of stock orders overdue\n",
    "\n",
    "deck_risk - Part risk flag\n",
    "\n",
    "oe_constraint - Part risk flag\n",
    "\n",
    "ppap_risk - Part risk flag\n",
    "\n",
    "stop_auto_buy - Part risk flag\n",
    "\n",
    "rev_stop - Part risk flag\n",
    "\n",
    "went_on_backorder - Product actually went on backorder. This is the target value."
   ]
  },
  {
   "cell_type": "code",
   "execution_count": 1,
   "metadata": {},
   "outputs": [
    {
     "name": "stderr",
     "output_type": "stream",
     "text": [
      "C:\\Python36\\lib\\site-packages\\statsmodels\\compat\\pandas.py:56: FutureWarning: The pandas.core.datetools module is deprecated and will be removed in a future version. Please use the pandas.tseries module instead.\n",
      "  from pandas.core import datetools\n"
     ]
    }
   ],
   "source": [
    "import numpy as np\n",
    "import scipy as sp\n",
    "import pandas as pd\n",
    "import statsmodels.api as sm\n",
    "import statsmodels.formula.api as smf\n",
    "import statsmodels.stats.api as sms\n",
    "import sklearn as sk\n",
    "\n",
    "import matplotlib as mpl\n",
    "import matplotlib.pylab as plt\n",
    "from mpl_toolkits.mplot3d import Axes3D\n",
    "\n",
    "import seaborn as sns\n",
    "sns.set()\n",
    "sns.set_style(\"whitegrid\")\n",
    "sns.set_color_codes()"
   ]
  },
  {
   "cell_type": "markdown",
   "metadata": {},
   "source": [
    "### Load data"
   ]
  },
  {
   "cell_type": "code",
   "execution_count": 2,
   "metadata": {},
   "outputs": [
    {
     "name": "stderr",
     "output_type": "stream",
     "text": [
      "C:\\Python36\\lib\\site-packages\\IPython\\core\\interactiveshell.py:2698: DtypeWarning: Columns (0) have mixed types. Specify dtype option on import or set low_memory=False.\n",
      "  interactivity=interactivity, compiler=compiler, result=result)\n"
     ]
    }
   ],
   "source": [
    "train = pd.read_csv(\"./data/Kaggle_Training_Dataset_v2.csv\")\n",
    "test = pd.read_csv(\"./data/Kaggle_Test_Dataset_v2.csv\")"
   ]
  },
  {
   "cell_type": "code",
   "execution_count": 3,
   "metadata": {},
   "outputs": [
    {
     "name": "stdout",
     "output_type": "stream",
     "text": [
      "<class 'pandas.core.frame.DataFrame'>\n",
      "RangeIndex: 1687861 entries, 0 to 1687860\n",
      "Data columns (total 23 columns):\n",
      "sku                  1687861 non-null object\n",
      "national_inv         1687860 non-null float64\n",
      "lead_time            1586967 non-null float64\n",
      "in_transit_qty       1687860 non-null float64\n",
      "forecast_3_month     1687860 non-null float64\n",
      "forecast_6_month     1687860 non-null float64\n",
      "forecast_9_month     1687860 non-null float64\n",
      "sales_1_month        1687860 non-null float64\n",
      "sales_3_month        1687860 non-null float64\n",
      "sales_6_month        1687860 non-null float64\n",
      "sales_9_month        1687860 non-null float64\n",
      "min_bank             1687860 non-null float64\n",
      "potential_issue      1687860 non-null object\n",
      "pieces_past_due      1687860 non-null float64\n",
      "perf_6_month_avg     1687860 non-null float64\n",
      "perf_12_month_avg    1687860 non-null float64\n",
      "local_bo_qty         1687860 non-null float64\n",
      "deck_risk            1687860 non-null object\n",
      "oe_constraint        1687860 non-null object\n",
      "ppap_risk            1687860 non-null object\n",
      "stop_auto_buy        1687860 non-null object\n",
      "rev_stop             1687860 non-null object\n",
      "went_on_backorder    1687860 non-null object\n",
      "dtypes: float64(15), object(8)\n",
      "memory usage: 296.2+ MB\n"
     ]
    }
   ],
   "source": [
    "train.info()"
   ]
  },
  {
   "cell_type": "code",
   "execution_count": 4,
   "metadata": {},
   "outputs": [
    {
     "name": "stdout",
     "output_type": "stream",
     "text": [
      "<class 'pandas.core.frame.DataFrame'>\n",
      "RangeIndex: 242076 entries, 0 to 242075\n",
      "Data columns (total 23 columns):\n",
      "sku                  242076 non-null object\n",
      "national_inv         242075 non-null float64\n",
      "lead_time            227351 non-null float64\n",
      "in_transit_qty       242075 non-null float64\n",
      "forecast_3_month     242075 non-null float64\n",
      "forecast_6_month     242075 non-null float64\n",
      "forecast_9_month     242075 non-null float64\n",
      "sales_1_month        242075 non-null float64\n",
      "sales_3_month        242075 non-null float64\n",
      "sales_6_month        242075 non-null float64\n",
      "sales_9_month        242075 non-null float64\n",
      "min_bank             242075 non-null float64\n",
      "potential_issue      242075 non-null object\n",
      "pieces_past_due      242075 non-null float64\n",
      "perf_6_month_avg     242075 non-null float64\n",
      "perf_12_month_avg    242075 non-null float64\n",
      "local_bo_qty         242075 non-null float64\n",
      "deck_risk            242075 non-null object\n",
      "oe_constraint        242075 non-null object\n",
      "ppap_risk            242075 non-null object\n",
      "stop_auto_buy        242075 non-null object\n",
      "rev_stop             242075 non-null object\n",
      "went_on_backorder    242075 non-null object\n",
      "dtypes: float64(15), object(8)\n",
      "memory usage: 42.5+ MB\n"
     ]
    }
   ],
   "source": [
    "test.info()"
   ]
  },
  {
   "cell_type": "code",
   "execution_count": 5,
   "metadata": {},
   "outputs": [
    {
     "data": {
      "text/plain": [
       "Index(['sku', 'national_inv', 'lead_time', 'in_transit_qty',\n",
       "       'forecast_3_month', 'forecast_6_month', 'forecast_9_month',\n",
       "       'sales_1_month', 'sales_3_month', 'sales_6_month', 'sales_9_month',\n",
       "       'min_bank', 'potential_issue', 'pieces_past_due', 'perf_6_month_avg',\n",
       "       'perf_12_month_avg', 'local_bo_qty', 'deck_risk', 'oe_constraint',\n",
       "       'ppap_risk', 'stop_auto_buy', 'rev_stop', 'went_on_backorder'],\n",
       "      dtype='object')"
      ]
     },
     "execution_count": 5,
     "metadata": {},
     "output_type": "execute_result"
    }
   ],
   "source": [
    "train.columns"
   ]
  },
  {
   "cell_type": "code",
   "execution_count": 6,
   "metadata": {},
   "outputs": [
    {
     "name": "stdout",
     "output_type": "stream",
     "text": [
      "<class 'pandas.core.frame.DataFrame'>\n",
      "RangeIndex: 1687861 entries, 0 to 1687860\n",
      "Columns: 23 entries, sku to went_on_backorder\n",
      "dtypes: float64(15), object(8)\n",
      "memory usage: 296.2+ MB\n"
     ]
    }
   ],
   "source": [
    "train.info(verbose=False)"
   ]
  },
  {
   "cell_type": "code",
   "execution_count": 7,
   "metadata": {},
   "outputs": [
    {
     "name": "stdout",
     "output_type": "stream",
     "text": [
      "<class 'pandas.core.frame.DataFrame'>\n",
      "RangeIndex: 242076 entries, 0 to 242075\n",
      "Columns: 23 entries, sku to went_on_backorder\n",
      "dtypes: float64(15), object(8)\n",
      "memory usage: 42.5+ MB\n"
     ]
    }
   ],
   "source": [
    "test.info(verbose=False)"
   ]
  },
  {
   "cell_type": "code",
   "execution_count": 8,
   "metadata": {},
   "outputs": [
    {
     "data": {
      "text/plain": [
       "0.14342176281103716"
      ]
     },
     "execution_count": 8,
     "metadata": {},
     "output_type": "execute_result"
    }
   ],
   "source": [
    "len(test.sku)/len(train.sku)"
   ]
  },
  {
   "cell_type": "code",
   "execution_count": 9,
   "metadata": {},
   "outputs": [
    {
     "data": {
      "text/plain": [
       "sku                       0\n",
       "national_inv              1\n",
       "lead_time            100894\n",
       "in_transit_qty            1\n",
       "forecast_3_month          1\n",
       "forecast_6_month          1\n",
       "forecast_9_month          1\n",
       "sales_1_month             1\n",
       "sales_3_month             1\n",
       "sales_6_month             1\n",
       "sales_9_month             1\n",
       "min_bank                  1\n",
       "potential_issue           1\n",
       "pieces_past_due           1\n",
       "perf_6_month_avg          1\n",
       "perf_12_month_avg         1\n",
       "local_bo_qty              1\n",
       "deck_risk                 1\n",
       "oe_constraint             1\n",
       "ppap_risk                 1\n",
       "stop_auto_buy             1\n",
       "rev_stop                  1\n",
       "went_on_backorder         1\n",
       "dtype: int64"
      ]
     },
     "execution_count": 9,
     "metadata": {},
     "output_type": "execute_result"
    }
   ],
   "source": [
    "train.isnull().sum()"
   ]
  },
  {
   "cell_type": "code",
   "execution_count": 10,
   "metadata": {},
   "outputs": [
    {
     "data": {
      "text/plain": [
       "sku                      0\n",
       "national_inv             1\n",
       "lead_time            14725\n",
       "in_transit_qty           1\n",
       "forecast_3_month         1\n",
       "forecast_6_month         1\n",
       "forecast_9_month         1\n",
       "sales_1_month            1\n",
       "sales_3_month            1\n",
       "sales_6_month            1\n",
       "sales_9_month            1\n",
       "min_bank                 1\n",
       "potential_issue          1\n",
       "pieces_past_due          1\n",
       "perf_6_month_avg         1\n",
       "perf_12_month_avg        1\n",
       "local_bo_qty             1\n",
       "deck_risk                1\n",
       "oe_constraint            1\n",
       "ppap_risk                1\n",
       "stop_auto_buy            1\n",
       "rev_stop                 1\n",
       "went_on_backorder        1\n",
       "dtype: int64"
      ]
     },
     "execution_count": 10,
     "metadata": {},
     "output_type": "execute_result"
    }
   ],
   "source": [
    "test.isnull().sum()"
   ]
  },
  {
   "cell_type": "code",
   "execution_count": 11,
   "metadata": {},
   "outputs": [
    {
     "data": {
      "text/html": [
       "<div>\n",
       "<style>\n",
       "    .dataframe thead tr:only-child th {\n",
       "        text-align: right;\n",
       "    }\n",
       "\n",
       "    .dataframe thead th {\n",
       "        text-align: left;\n",
       "    }\n",
       "\n",
       "    .dataframe tbody tr th {\n",
       "        vertical-align: top;\n",
       "    }\n",
       "</style>\n",
       "<table border=\"1\" class=\"dataframe\">\n",
       "  <thead>\n",
       "    <tr style=\"text-align: right;\">\n",
       "      <th></th>\n",
       "      <th>sku</th>\n",
       "      <th>national_inv</th>\n",
       "      <th>lead_time</th>\n",
       "      <th>in_transit_qty</th>\n",
       "      <th>forecast_3_month</th>\n",
       "      <th>forecast_6_month</th>\n",
       "      <th>forecast_9_month</th>\n",
       "      <th>sales_1_month</th>\n",
       "      <th>sales_3_month</th>\n",
       "      <th>sales_6_month</th>\n",
       "      <th>...</th>\n",
       "      <th>pieces_past_due</th>\n",
       "      <th>perf_6_month_avg</th>\n",
       "      <th>perf_12_month_avg</th>\n",
       "      <th>local_bo_qty</th>\n",
       "      <th>deck_risk</th>\n",
       "      <th>oe_constraint</th>\n",
       "      <th>ppap_risk</th>\n",
       "      <th>stop_auto_buy</th>\n",
       "      <th>rev_stop</th>\n",
       "      <th>went_on_backorder</th>\n",
       "    </tr>\n",
       "  </thead>\n",
       "  <tbody>\n",
       "    <tr>\n",
       "      <th>1687856</th>\n",
       "      <td>1373987</td>\n",
       "      <td>-1.0</td>\n",
       "      <td>NaN</td>\n",
       "      <td>0.0</td>\n",
       "      <td>5.0</td>\n",
       "      <td>7.0</td>\n",
       "      <td>9.0</td>\n",
       "      <td>1.0</td>\n",
       "      <td>3.0</td>\n",
       "      <td>3.0</td>\n",
       "      <td>...</td>\n",
       "      <td>0.0</td>\n",
       "      <td>-99.00</td>\n",
       "      <td>-99.00</td>\n",
       "      <td>1.0</td>\n",
       "      <td>No</td>\n",
       "      <td>No</td>\n",
       "      <td>No</td>\n",
       "      <td>Yes</td>\n",
       "      <td>No</td>\n",
       "      <td>No</td>\n",
       "    </tr>\n",
       "    <tr>\n",
       "      <th>1687857</th>\n",
       "      <td>1524346</td>\n",
       "      <td>-1.0</td>\n",
       "      <td>9.0</td>\n",
       "      <td>0.0</td>\n",
       "      <td>7.0</td>\n",
       "      <td>9.0</td>\n",
       "      <td>11.0</td>\n",
       "      <td>0.0</td>\n",
       "      <td>8.0</td>\n",
       "      <td>11.0</td>\n",
       "      <td>...</td>\n",
       "      <td>0.0</td>\n",
       "      <td>0.86</td>\n",
       "      <td>0.84</td>\n",
       "      <td>1.0</td>\n",
       "      <td>Yes</td>\n",
       "      <td>No</td>\n",
       "      <td>No</td>\n",
       "      <td>No</td>\n",
       "      <td>No</td>\n",
       "      <td>Yes</td>\n",
       "    </tr>\n",
       "    <tr>\n",
       "      <th>1687858</th>\n",
       "      <td>1439563</td>\n",
       "      <td>62.0</td>\n",
       "      <td>9.0</td>\n",
       "      <td>16.0</td>\n",
       "      <td>39.0</td>\n",
       "      <td>87.0</td>\n",
       "      <td>126.0</td>\n",
       "      <td>35.0</td>\n",
       "      <td>63.0</td>\n",
       "      <td>153.0</td>\n",
       "      <td>...</td>\n",
       "      <td>0.0</td>\n",
       "      <td>0.86</td>\n",
       "      <td>0.84</td>\n",
       "      <td>6.0</td>\n",
       "      <td>No</td>\n",
       "      <td>No</td>\n",
       "      <td>No</td>\n",
       "      <td>Yes</td>\n",
       "      <td>No</td>\n",
       "      <td>No</td>\n",
       "    </tr>\n",
       "    <tr>\n",
       "      <th>1687859</th>\n",
       "      <td>1502009</td>\n",
       "      <td>19.0</td>\n",
       "      <td>4.0</td>\n",
       "      <td>0.0</td>\n",
       "      <td>0.0</td>\n",
       "      <td>0.0</td>\n",
       "      <td>0.0</td>\n",
       "      <td>2.0</td>\n",
       "      <td>7.0</td>\n",
       "      <td>12.0</td>\n",
       "      <td>...</td>\n",
       "      <td>0.0</td>\n",
       "      <td>0.73</td>\n",
       "      <td>0.78</td>\n",
       "      <td>1.0</td>\n",
       "      <td>No</td>\n",
       "      <td>No</td>\n",
       "      <td>No</td>\n",
       "      <td>Yes</td>\n",
       "      <td>No</td>\n",
       "      <td>No</td>\n",
       "    </tr>\n",
       "    <tr>\n",
       "      <th>1687860</th>\n",
       "      <td>(1687860 rows)</td>\n",
       "      <td>NaN</td>\n",
       "      <td>NaN</td>\n",
       "      <td>NaN</td>\n",
       "      <td>NaN</td>\n",
       "      <td>NaN</td>\n",
       "      <td>NaN</td>\n",
       "      <td>NaN</td>\n",
       "      <td>NaN</td>\n",
       "      <td>NaN</td>\n",
       "      <td>...</td>\n",
       "      <td>NaN</td>\n",
       "      <td>NaN</td>\n",
       "      <td>NaN</td>\n",
       "      <td>NaN</td>\n",
       "      <td>NaN</td>\n",
       "      <td>NaN</td>\n",
       "      <td>NaN</td>\n",
       "      <td>NaN</td>\n",
       "      <td>NaN</td>\n",
       "      <td>NaN</td>\n",
       "    </tr>\n",
       "  </tbody>\n",
       "</table>\n",
       "<p>5 rows × 23 columns</p>\n",
       "</div>"
      ],
      "text/plain": [
       "                    sku  national_inv  lead_time  in_transit_qty  \\\n",
       "1687856         1373987          -1.0        NaN             0.0   \n",
       "1687857         1524346          -1.0        9.0             0.0   \n",
       "1687858         1439563          62.0        9.0            16.0   \n",
       "1687859         1502009          19.0        4.0             0.0   \n",
       "1687860  (1687860 rows)           NaN        NaN             NaN   \n",
       "\n",
       "         forecast_3_month  forecast_6_month  forecast_9_month  sales_1_month  \\\n",
       "1687856               5.0               7.0               9.0            1.0   \n",
       "1687857               7.0               9.0              11.0            0.0   \n",
       "1687858              39.0              87.0             126.0           35.0   \n",
       "1687859               0.0               0.0               0.0            2.0   \n",
       "1687860               NaN               NaN               NaN            NaN   \n",
       "\n",
       "         sales_3_month  sales_6_month        ...         pieces_past_due  \\\n",
       "1687856            3.0            3.0        ...                     0.0   \n",
       "1687857            8.0           11.0        ...                     0.0   \n",
       "1687858           63.0          153.0        ...                     0.0   \n",
       "1687859            7.0           12.0        ...                     0.0   \n",
       "1687860            NaN            NaN        ...                     NaN   \n",
       "\n",
       "         perf_6_month_avg perf_12_month_avg  local_bo_qty  deck_risk  \\\n",
       "1687856            -99.00            -99.00           1.0         No   \n",
       "1687857              0.86              0.84           1.0        Yes   \n",
       "1687858              0.86              0.84           6.0         No   \n",
       "1687859              0.73              0.78           1.0         No   \n",
       "1687860               NaN               NaN           NaN        NaN   \n",
       "\n",
       "         oe_constraint  ppap_risk stop_auto_buy rev_stop went_on_backorder  \n",
       "1687856             No         No           Yes       No                No  \n",
       "1687857             No         No            No       No               Yes  \n",
       "1687858             No         No           Yes       No                No  \n",
       "1687859             No         No           Yes       No                No  \n",
       "1687860            NaN        NaN           NaN      NaN               NaN  \n",
       "\n",
       "[5 rows x 23 columns]"
      ]
     },
     "execution_count": 11,
     "metadata": {},
     "output_type": "execute_result"
    }
   ],
   "source": [
    "train.tail()"
   ]
  },
  {
   "cell_type": "code",
   "execution_count": 12,
   "metadata": {},
   "outputs": [
    {
     "data": {
      "text/html": [
       "<div>\n",
       "<style>\n",
       "    .dataframe thead tr:only-child th {\n",
       "        text-align: right;\n",
       "    }\n",
       "\n",
       "    .dataframe thead th {\n",
       "        text-align: left;\n",
       "    }\n",
       "\n",
       "    .dataframe tbody tr th {\n",
       "        vertical-align: top;\n",
       "    }\n",
       "</style>\n",
       "<table border=\"1\" class=\"dataframe\">\n",
       "  <thead>\n",
       "    <tr style=\"text-align: right;\">\n",
       "      <th></th>\n",
       "      <th>sku</th>\n",
       "      <th>national_inv</th>\n",
       "      <th>lead_time</th>\n",
       "      <th>in_transit_qty</th>\n",
       "      <th>forecast_3_month</th>\n",
       "      <th>forecast_6_month</th>\n",
       "      <th>forecast_9_month</th>\n",
       "      <th>sales_1_month</th>\n",
       "      <th>sales_3_month</th>\n",
       "      <th>sales_6_month</th>\n",
       "      <th>...</th>\n",
       "      <th>pieces_past_due</th>\n",
       "      <th>perf_6_month_avg</th>\n",
       "      <th>perf_12_month_avg</th>\n",
       "      <th>local_bo_qty</th>\n",
       "      <th>deck_risk</th>\n",
       "      <th>oe_constraint</th>\n",
       "      <th>ppap_risk</th>\n",
       "      <th>stop_auto_buy</th>\n",
       "      <th>rev_stop</th>\n",
       "      <th>went_on_backorder</th>\n",
       "    </tr>\n",
       "  </thead>\n",
       "  <tbody>\n",
       "    <tr>\n",
       "      <th>242071</th>\n",
       "      <td>3526988</td>\n",
       "      <td>13.0</td>\n",
       "      <td>12.0</td>\n",
       "      <td>0.0</td>\n",
       "      <td>0.0</td>\n",
       "      <td>0.0</td>\n",
       "      <td>0.0</td>\n",
       "      <td>0.0</td>\n",
       "      <td>0.0</td>\n",
       "      <td>0.0</td>\n",
       "      <td>...</td>\n",
       "      <td>0.0</td>\n",
       "      <td>0.48</td>\n",
       "      <td>0.48</td>\n",
       "      <td>0.0</td>\n",
       "      <td>Yes</td>\n",
       "      <td>No</td>\n",
       "      <td>No</td>\n",
       "      <td>Yes</td>\n",
       "      <td>No</td>\n",
       "      <td>No</td>\n",
       "    </tr>\n",
       "    <tr>\n",
       "      <th>242072</th>\n",
       "      <td>3526989</td>\n",
       "      <td>13.0</td>\n",
       "      <td>12.0</td>\n",
       "      <td>0.0</td>\n",
       "      <td>0.0</td>\n",
       "      <td>0.0</td>\n",
       "      <td>0.0</td>\n",
       "      <td>0.0</td>\n",
       "      <td>0.0</td>\n",
       "      <td>0.0</td>\n",
       "      <td>...</td>\n",
       "      <td>0.0</td>\n",
       "      <td>0.48</td>\n",
       "      <td>0.48</td>\n",
       "      <td>0.0</td>\n",
       "      <td>Yes</td>\n",
       "      <td>No</td>\n",
       "      <td>No</td>\n",
       "      <td>Yes</td>\n",
       "      <td>No</td>\n",
       "      <td>No</td>\n",
       "    </tr>\n",
       "    <tr>\n",
       "      <th>242073</th>\n",
       "      <td>3526990</td>\n",
       "      <td>10.0</td>\n",
       "      <td>12.0</td>\n",
       "      <td>0.0</td>\n",
       "      <td>0.0</td>\n",
       "      <td>0.0</td>\n",
       "      <td>0.0</td>\n",
       "      <td>0.0</td>\n",
       "      <td>0.0</td>\n",
       "      <td>0.0</td>\n",
       "      <td>...</td>\n",
       "      <td>0.0</td>\n",
       "      <td>0.48</td>\n",
       "      <td>0.48</td>\n",
       "      <td>0.0</td>\n",
       "      <td>Yes</td>\n",
       "      <td>No</td>\n",
       "      <td>No</td>\n",
       "      <td>Yes</td>\n",
       "      <td>No</td>\n",
       "      <td>No</td>\n",
       "    </tr>\n",
       "    <tr>\n",
       "      <th>242074</th>\n",
       "      <td>3526991</td>\n",
       "      <td>2913.0</td>\n",
       "      <td>12.0</td>\n",
       "      <td>0.0</td>\n",
       "      <td>0.0</td>\n",
       "      <td>0.0</td>\n",
       "      <td>0.0</td>\n",
       "      <td>0.0</td>\n",
       "      <td>30.0</td>\n",
       "      <td>88.0</td>\n",
       "      <td>...</td>\n",
       "      <td>0.0</td>\n",
       "      <td>0.48</td>\n",
       "      <td>0.48</td>\n",
       "      <td>0.0</td>\n",
       "      <td>Yes</td>\n",
       "      <td>No</td>\n",
       "      <td>No</td>\n",
       "      <td>Yes</td>\n",
       "      <td>No</td>\n",
       "      <td>No</td>\n",
       "    </tr>\n",
       "    <tr>\n",
       "      <th>242075</th>\n",
       "      <td>(242075 rows)</td>\n",
       "      <td>NaN</td>\n",
       "      <td>NaN</td>\n",
       "      <td>NaN</td>\n",
       "      <td>NaN</td>\n",
       "      <td>NaN</td>\n",
       "      <td>NaN</td>\n",
       "      <td>NaN</td>\n",
       "      <td>NaN</td>\n",
       "      <td>NaN</td>\n",
       "      <td>...</td>\n",
       "      <td>NaN</td>\n",
       "      <td>NaN</td>\n",
       "      <td>NaN</td>\n",
       "      <td>NaN</td>\n",
       "      <td>NaN</td>\n",
       "      <td>NaN</td>\n",
       "      <td>NaN</td>\n",
       "      <td>NaN</td>\n",
       "      <td>NaN</td>\n",
       "      <td>NaN</td>\n",
       "    </tr>\n",
       "  </tbody>\n",
       "</table>\n",
       "<p>5 rows × 23 columns</p>\n",
       "</div>"
      ],
      "text/plain": [
       "                  sku  national_inv  lead_time  in_transit_qty  \\\n",
       "242071        3526988          13.0       12.0             0.0   \n",
       "242072        3526989          13.0       12.0             0.0   \n",
       "242073        3526990          10.0       12.0             0.0   \n",
       "242074        3526991        2913.0       12.0             0.0   \n",
       "242075  (242075 rows)           NaN        NaN             NaN   \n",
       "\n",
       "        forecast_3_month  forecast_6_month  forecast_9_month  sales_1_month  \\\n",
       "242071               0.0               0.0               0.0            0.0   \n",
       "242072               0.0               0.0               0.0            0.0   \n",
       "242073               0.0               0.0               0.0            0.0   \n",
       "242074               0.0               0.0               0.0            0.0   \n",
       "242075               NaN               NaN               NaN            NaN   \n",
       "\n",
       "        sales_3_month  sales_6_month        ...         pieces_past_due  \\\n",
       "242071            0.0            0.0        ...                     0.0   \n",
       "242072            0.0            0.0        ...                     0.0   \n",
       "242073            0.0            0.0        ...                     0.0   \n",
       "242074           30.0           88.0        ...                     0.0   \n",
       "242075            NaN            NaN        ...                     NaN   \n",
       "\n",
       "        perf_6_month_avg perf_12_month_avg  local_bo_qty  deck_risk  \\\n",
       "242071              0.48              0.48           0.0        Yes   \n",
       "242072              0.48              0.48           0.0        Yes   \n",
       "242073              0.48              0.48           0.0        Yes   \n",
       "242074              0.48              0.48           0.0        Yes   \n",
       "242075               NaN               NaN           NaN        NaN   \n",
       "\n",
       "        oe_constraint  ppap_risk stop_auto_buy rev_stop went_on_backorder  \n",
       "242071             No         No           Yes       No                No  \n",
       "242072             No         No           Yes       No                No  \n",
       "242073             No         No           Yes       No                No  \n",
       "242074             No         No           Yes       No                No  \n",
       "242075            NaN        NaN           NaN      NaN               NaN  \n",
       "\n",
       "[5 rows x 23 columns]"
      ]
     },
     "execution_count": 12,
     "metadata": {},
     "output_type": "execute_result"
    }
   ],
   "source": [
    "test.tail()"
   ]
  },
  {
   "cell_type": "markdown",
   "metadata": {},
   "source": [
    "### Interim check  01\n",
    "- \"sku\" is stock keeping unit, so it is just product ID.\n",
    "    - \"sku\" can be used as index\n",
    "- found that dataset is large and only have dtype of float64 and object\n",
    "    - seperate float columns and object columns\n",
    "    - ~~may can change into float32~~\n",
    "- test set is 14% compare to train set\n",
    "    - may too small\n",
    "    - maybe can make 2 validation sets\n",
    "- found that dataset needs imputation of missing values\n",
    "    - especially \"lead_time\""
   ]
  },
  {
   "cell_type": "code",
   "execution_count": 13,
   "metadata": {},
   "outputs": [
    {
     "data": {
      "text/html": [
       "<div>\n",
       "<style>\n",
       "    .dataframe thead tr:only-child th {\n",
       "        text-align: right;\n",
       "    }\n",
       "\n",
       "    .dataframe thead th {\n",
       "        text-align: left;\n",
       "    }\n",
       "\n",
       "    .dataframe tbody tr th {\n",
       "        vertical-align: top;\n",
       "    }\n",
       "</style>\n",
       "<table border=\"1\" class=\"dataframe\">\n",
       "  <thead>\n",
       "    <tr style=\"text-align: right;\">\n",
       "      <th></th>\n",
       "      <th>national_inv</th>\n",
       "      <th>lead_time</th>\n",
       "      <th>in_transit_qty</th>\n",
       "      <th>forecast_3_month</th>\n",
       "      <th>forecast_6_month</th>\n",
       "      <th>forecast_9_month</th>\n",
       "      <th>sales_1_month</th>\n",
       "      <th>sales_3_month</th>\n",
       "      <th>sales_6_month</th>\n",
       "      <th>sales_9_month</th>\n",
       "      <th>...</th>\n",
       "      <th>pieces_past_due</th>\n",
       "      <th>perf_6_month_avg</th>\n",
       "      <th>perf_12_month_avg</th>\n",
       "      <th>local_bo_qty</th>\n",
       "      <th>deck_risk</th>\n",
       "      <th>oe_constraint</th>\n",
       "      <th>ppap_risk</th>\n",
       "      <th>stop_auto_buy</th>\n",
       "      <th>rev_stop</th>\n",
       "      <th>went_on_backorder</th>\n",
       "    </tr>\n",
       "    <tr>\n",
       "      <th>sku</th>\n",
       "      <th></th>\n",
       "      <th></th>\n",
       "      <th></th>\n",
       "      <th></th>\n",
       "      <th></th>\n",
       "      <th></th>\n",
       "      <th></th>\n",
       "      <th></th>\n",
       "      <th></th>\n",
       "      <th></th>\n",
       "      <th></th>\n",
       "      <th></th>\n",
       "      <th></th>\n",
       "      <th></th>\n",
       "      <th></th>\n",
       "      <th></th>\n",
       "      <th></th>\n",
       "      <th></th>\n",
       "      <th></th>\n",
       "      <th></th>\n",
       "      <th></th>\n",
       "    </tr>\n",
       "  </thead>\n",
       "  <tbody>\n",
       "    <tr>\n",
       "      <th>1373987</th>\n",
       "      <td>-1.0</td>\n",
       "      <td>NaN</td>\n",
       "      <td>0.0</td>\n",
       "      <td>5.0</td>\n",
       "      <td>7.0</td>\n",
       "      <td>9.0</td>\n",
       "      <td>1.0</td>\n",
       "      <td>3.0</td>\n",
       "      <td>3.0</td>\n",
       "      <td>8.0</td>\n",
       "      <td>...</td>\n",
       "      <td>0.0</td>\n",
       "      <td>-99.00</td>\n",
       "      <td>-99.00</td>\n",
       "      <td>1.0</td>\n",
       "      <td>No</td>\n",
       "      <td>No</td>\n",
       "      <td>No</td>\n",
       "      <td>Yes</td>\n",
       "      <td>No</td>\n",
       "      <td>No</td>\n",
       "    </tr>\n",
       "    <tr>\n",
       "      <th>1524346</th>\n",
       "      <td>-1.0</td>\n",
       "      <td>9.0</td>\n",
       "      <td>0.0</td>\n",
       "      <td>7.0</td>\n",
       "      <td>9.0</td>\n",
       "      <td>11.0</td>\n",
       "      <td>0.0</td>\n",
       "      <td>8.0</td>\n",
       "      <td>11.0</td>\n",
       "      <td>12.0</td>\n",
       "      <td>...</td>\n",
       "      <td>0.0</td>\n",
       "      <td>0.86</td>\n",
       "      <td>0.84</td>\n",
       "      <td>1.0</td>\n",
       "      <td>Yes</td>\n",
       "      <td>No</td>\n",
       "      <td>No</td>\n",
       "      <td>No</td>\n",
       "      <td>No</td>\n",
       "      <td>Yes</td>\n",
       "    </tr>\n",
       "    <tr>\n",
       "      <th>1439563</th>\n",
       "      <td>62.0</td>\n",
       "      <td>9.0</td>\n",
       "      <td>16.0</td>\n",
       "      <td>39.0</td>\n",
       "      <td>87.0</td>\n",
       "      <td>126.0</td>\n",
       "      <td>35.0</td>\n",
       "      <td>63.0</td>\n",
       "      <td>153.0</td>\n",
       "      <td>205.0</td>\n",
       "      <td>...</td>\n",
       "      <td>0.0</td>\n",
       "      <td>0.86</td>\n",
       "      <td>0.84</td>\n",
       "      <td>6.0</td>\n",
       "      <td>No</td>\n",
       "      <td>No</td>\n",
       "      <td>No</td>\n",
       "      <td>Yes</td>\n",
       "      <td>No</td>\n",
       "      <td>No</td>\n",
       "    </tr>\n",
       "    <tr>\n",
       "      <th>1502009</th>\n",
       "      <td>19.0</td>\n",
       "      <td>4.0</td>\n",
       "      <td>0.0</td>\n",
       "      <td>0.0</td>\n",
       "      <td>0.0</td>\n",
       "      <td>0.0</td>\n",
       "      <td>2.0</td>\n",
       "      <td>7.0</td>\n",
       "      <td>12.0</td>\n",
       "      <td>20.0</td>\n",
       "      <td>...</td>\n",
       "      <td>0.0</td>\n",
       "      <td>0.73</td>\n",
       "      <td>0.78</td>\n",
       "      <td>1.0</td>\n",
       "      <td>No</td>\n",
       "      <td>No</td>\n",
       "      <td>No</td>\n",
       "      <td>Yes</td>\n",
       "      <td>No</td>\n",
       "      <td>No</td>\n",
       "    </tr>\n",
       "    <tr>\n",
       "      <th>(1687860 rows)</th>\n",
       "      <td>NaN</td>\n",
       "      <td>NaN</td>\n",
       "      <td>NaN</td>\n",
       "      <td>NaN</td>\n",
       "      <td>NaN</td>\n",
       "      <td>NaN</td>\n",
       "      <td>NaN</td>\n",
       "      <td>NaN</td>\n",
       "      <td>NaN</td>\n",
       "      <td>NaN</td>\n",
       "      <td>...</td>\n",
       "      <td>NaN</td>\n",
       "      <td>NaN</td>\n",
       "      <td>NaN</td>\n",
       "      <td>NaN</td>\n",
       "      <td>NaN</td>\n",
       "      <td>NaN</td>\n",
       "      <td>NaN</td>\n",
       "      <td>NaN</td>\n",
       "      <td>NaN</td>\n",
       "      <td>NaN</td>\n",
       "    </tr>\n",
       "  </tbody>\n",
       "</table>\n",
       "<p>5 rows × 22 columns</p>\n",
       "</div>"
      ],
      "text/plain": [
       "                national_inv  lead_time  in_transit_qty  forecast_3_month  \\\n",
       "sku                                                                         \n",
       "1373987                 -1.0        NaN             0.0               5.0   \n",
       "1524346                 -1.0        9.0             0.0               7.0   \n",
       "1439563                 62.0        9.0            16.0              39.0   \n",
       "1502009                 19.0        4.0             0.0               0.0   \n",
       "(1687860 rows)           NaN        NaN             NaN               NaN   \n",
       "\n",
       "                forecast_6_month  forecast_9_month  sales_1_month  \\\n",
       "sku                                                                 \n",
       "1373987                      7.0               9.0            1.0   \n",
       "1524346                      9.0              11.0            0.0   \n",
       "1439563                     87.0             126.0           35.0   \n",
       "1502009                      0.0               0.0            2.0   \n",
       "(1687860 rows)               NaN               NaN            NaN   \n",
       "\n",
       "                sales_3_month  sales_6_month  sales_9_month        ...         \\\n",
       "sku                                                                ...          \n",
       "1373987                   3.0            3.0            8.0        ...          \n",
       "1524346                   8.0           11.0           12.0        ...          \n",
       "1439563                  63.0          153.0          205.0        ...          \n",
       "1502009                   7.0           12.0           20.0        ...          \n",
       "(1687860 rows)            NaN            NaN            NaN        ...          \n",
       "\n",
       "                pieces_past_due perf_6_month_avg  perf_12_month_avg  \\\n",
       "sku                                                                   \n",
       "1373987                     0.0           -99.00             -99.00   \n",
       "1524346                     0.0             0.86               0.84   \n",
       "1439563                     0.0             0.86               0.84   \n",
       "1502009                     0.0             0.73               0.78   \n",
       "(1687860 rows)              NaN              NaN                NaN   \n",
       "\n",
       "                local_bo_qty  deck_risk  oe_constraint ppap_risk  \\\n",
       "sku                                                                \n",
       "1373987                  1.0         No             No        No   \n",
       "1524346                  1.0        Yes             No        No   \n",
       "1439563                  6.0         No             No        No   \n",
       "1502009                  1.0         No             No        No   \n",
       "(1687860 rows)           NaN        NaN            NaN       NaN   \n",
       "\n",
       "               stop_auto_buy rev_stop went_on_backorder  \n",
       "sku                                                      \n",
       "1373987                  Yes       No                No  \n",
       "1524346                   No       No               Yes  \n",
       "1439563                  Yes       No                No  \n",
       "1502009                  Yes       No                No  \n",
       "(1687860 rows)           NaN      NaN               NaN  \n",
       "\n",
       "[5 rows x 22 columns]"
      ]
     },
     "execution_count": 13,
     "metadata": {},
     "output_type": "execute_result"
    }
   ],
   "source": [
    "train = train.set_index('sku')\n",
    "test = test.set_index('sku')\n",
    "train.tail()"
   ]
  },
  {
   "cell_type": "code",
   "execution_count": 14,
   "metadata": {
    "collapsed": true
   },
   "outputs": [],
   "source": [
    "float_cols = []\n",
    "object_cols = []"
   ]
  },
  {
   "cell_type": "code",
   "execution_count": 15,
   "metadata": {},
   "outputs": [
    {
     "name": "stdout",
     "output_type": "stream",
     "text": [
      "12334404.0 \t national_inv\n",
      "nan \t lead_time\n",
      "489408.0 \t in_transit_qty\n",
      "1427612.0 \t forecast_3_month\n",
      "2461360.0 \t forecast_6_month\n",
      "3777304.0 \t forecast_9_month\n",
      "741774.0 \t sales_1_month\n",
      "1105478.0 \t sales_3_month\n",
      "2146625.0 \t sales_6_month\n",
      "3205172.0 \t sales_9_month\n",
      "313319.0 \t min_bank\n",
      "146496.0 \t pieces_past_due\n",
      "1.0 \t perf_6_month_avg\n",
      "1.0 \t perf_12_month_avg\n",
      "12530.0 \t local_bo_qty\n",
      "\n",
      "12145792.0 \t national_inv\n",
      "nan \t lead_time\n",
      "265272.0 \t in_transit_qty\n",
      "1510592.0 \t forecast_3_month\n",
      "2157024.0 \t forecast_6_month\n",
      "3162260.0 \t forecast_9_month\n",
      "349620.0 \t sales_1_month\n",
      "1099852.0 \t sales_3_month\n",
      "2103389.0 \t sales_6_month\n",
      "3195211.0 \t sales_9_month\n",
      "303713.0 \t min_bank\n",
      "79964.0 \t pieces_past_due\n",
      "1.0 \t perf_6_month_avg\n",
      "1.0 \t perf_12_month_avg\n",
      "6232.0 \t local_bo_qty\n",
      "\n",
      "potential_issue\n",
      "deck_risk\n",
      "oe_constraint\n",
      "ppap_risk\n",
      "stop_auto_buy\n",
      "rev_stop\n",
      "went_on_backorder\n"
     ]
    }
   ],
   "source": [
    "# checking for max float number \n",
    "## may can change dtype from float64 to float32 for memory saving, later\n",
    "\n",
    "for c, dtype in zip(train.columns, train.dtypes):\n",
    "    if dtype == np.float64:\n",
    "        float_cols.append(c)\n",
    "        print(max(train[c]), '\\t', c)\n",
    "        \n",
    "print()        \n",
    "for c, dtype in zip(test.columns, test.dtypes):\n",
    "    if dtype == np.float64:\n",
    "        print(max(test[c]), '\\t', c)\n",
    "\n",
    "print()\n",
    "for c, dtype in zip(test.columns, test.dtypes):\n",
    "    if dtype == object:\n",
    "        object_cols.append(c)\n",
    "        print(c)"
   ]
  },
  {
   "cell_type": "code",
   "execution_count": 16,
   "metadata": {
    "scrolled": true
   },
   "outputs": [
    {
     "name": "stdout",
     "output_type": "stream",
     "text": [
      "['national_inv', 'lead_time', 'in_transit_qty', 'forecast_3_month', 'forecast_6_month', 'forecast_9_month', 'sales_1_month', 'sales_3_month', 'sales_6_month', 'sales_9_month', 'min_bank', 'pieces_past_due', 'perf_6_month_avg', 'perf_12_month_avg', 'local_bo_qty'] \n",
      " \n",
      " ['potential_issue', 'deck_risk', 'oe_constraint', 'ppap_risk', 'stop_auto_buy', 'rev_stop', 'went_on_backorder']\n"
     ]
    }
   ],
   "source": [
    "print(float_cols, '\\n', '\\n', object_cols)"
   ]
  },
  {
   "cell_type": "markdown",
   "metadata": {},
   "source": [
    "### ~~Convert dtype float64 to float32~~\n",
    "- ~~To reduce memory usage, converted data type~~"
   ]
  },
  {
   "cell_type": "raw",
   "metadata": {},
   "source": [
    "for c, dtype in zip(train.columns, train.dtypes):\n",
    "    if dtype == np.float64:\n",
    "        train[c] = train[c].astype(np.float32)\n",
    "train.info(verbose=False)\n",
    "\n",
    "for c, dtype in zip(test.columns, test.dtypes):\n",
    "    if dtype == np.float64:\n",
    "        test[c] = test[c].astype(np.float32)\n",
    "test.info(verbose=False)"
   ]
  },
  {
   "cell_type": "code",
   "execution_count": 17,
   "metadata": {},
   "outputs": [
    {
     "data": {
      "text/html": [
       "<div>\n",
       "<style>\n",
       "    .dataframe thead tr:only-child th {\n",
       "        text-align: right;\n",
       "    }\n",
       "\n",
       "    .dataframe thead th {\n",
       "        text-align: left;\n",
       "    }\n",
       "\n",
       "    .dataframe tbody tr th {\n",
       "        vertical-align: top;\n",
       "    }\n",
       "</style>\n",
       "<table border=\"1\" class=\"dataframe\">\n",
       "  <thead>\n",
       "    <tr style=\"text-align: right;\">\n",
       "      <th></th>\n",
       "      <th>national_inv</th>\n",
       "      <th>lead_time</th>\n",
       "      <th>in_transit_qty</th>\n",
       "      <th>forecast_3_month</th>\n",
       "      <th>forecast_6_month</th>\n",
       "      <th>forecast_9_month</th>\n",
       "      <th>sales_1_month</th>\n",
       "      <th>sales_3_month</th>\n",
       "      <th>sales_6_month</th>\n",
       "      <th>sales_9_month</th>\n",
       "      <th>min_bank</th>\n",
       "      <th>pieces_past_due</th>\n",
       "      <th>perf_6_month_avg</th>\n",
       "      <th>perf_12_month_avg</th>\n",
       "      <th>local_bo_qty</th>\n",
       "    </tr>\n",
       "    <tr>\n",
       "      <th>sku</th>\n",
       "      <th></th>\n",
       "      <th></th>\n",
       "      <th></th>\n",
       "      <th></th>\n",
       "      <th></th>\n",
       "      <th></th>\n",
       "      <th></th>\n",
       "      <th></th>\n",
       "      <th></th>\n",
       "      <th></th>\n",
       "      <th></th>\n",
       "      <th></th>\n",
       "      <th></th>\n",
       "      <th></th>\n",
       "      <th></th>\n",
       "    </tr>\n",
       "  </thead>\n",
       "  <tbody>\n",
       "    <tr>\n",
       "      <th>1373987</th>\n",
       "      <td>-1.0</td>\n",
       "      <td>NaN</td>\n",
       "      <td>0.0</td>\n",
       "      <td>5.0</td>\n",
       "      <td>7.0</td>\n",
       "      <td>9.0</td>\n",
       "      <td>1.0</td>\n",
       "      <td>3.0</td>\n",
       "      <td>3.0</td>\n",
       "      <td>8.0</td>\n",
       "      <td>0.0</td>\n",
       "      <td>0.0</td>\n",
       "      <td>-99.00</td>\n",
       "      <td>-99.00</td>\n",
       "      <td>1.0</td>\n",
       "    </tr>\n",
       "    <tr>\n",
       "      <th>1524346</th>\n",
       "      <td>-1.0</td>\n",
       "      <td>9.0</td>\n",
       "      <td>0.0</td>\n",
       "      <td>7.0</td>\n",
       "      <td>9.0</td>\n",
       "      <td>11.0</td>\n",
       "      <td>0.0</td>\n",
       "      <td>8.0</td>\n",
       "      <td>11.0</td>\n",
       "      <td>12.0</td>\n",
       "      <td>0.0</td>\n",
       "      <td>0.0</td>\n",
       "      <td>0.86</td>\n",
       "      <td>0.84</td>\n",
       "      <td>1.0</td>\n",
       "    </tr>\n",
       "    <tr>\n",
       "      <th>1439563</th>\n",
       "      <td>62.0</td>\n",
       "      <td>9.0</td>\n",
       "      <td>16.0</td>\n",
       "      <td>39.0</td>\n",
       "      <td>87.0</td>\n",
       "      <td>126.0</td>\n",
       "      <td>35.0</td>\n",
       "      <td>63.0</td>\n",
       "      <td>153.0</td>\n",
       "      <td>205.0</td>\n",
       "      <td>12.0</td>\n",
       "      <td>0.0</td>\n",
       "      <td>0.86</td>\n",
       "      <td>0.84</td>\n",
       "      <td>6.0</td>\n",
       "    </tr>\n",
       "    <tr>\n",
       "      <th>1502009</th>\n",
       "      <td>19.0</td>\n",
       "      <td>4.0</td>\n",
       "      <td>0.0</td>\n",
       "      <td>0.0</td>\n",
       "      <td>0.0</td>\n",
       "      <td>0.0</td>\n",
       "      <td>2.0</td>\n",
       "      <td>7.0</td>\n",
       "      <td>12.0</td>\n",
       "      <td>20.0</td>\n",
       "      <td>1.0</td>\n",
       "      <td>0.0</td>\n",
       "      <td>0.73</td>\n",
       "      <td>0.78</td>\n",
       "      <td>1.0</td>\n",
       "    </tr>\n",
       "    <tr>\n",
       "      <th>(1687860 rows)</th>\n",
       "      <td>NaN</td>\n",
       "      <td>NaN</td>\n",
       "      <td>NaN</td>\n",
       "      <td>NaN</td>\n",
       "      <td>NaN</td>\n",
       "      <td>NaN</td>\n",
       "      <td>NaN</td>\n",
       "      <td>NaN</td>\n",
       "      <td>NaN</td>\n",
       "      <td>NaN</td>\n",
       "      <td>NaN</td>\n",
       "      <td>NaN</td>\n",
       "      <td>NaN</td>\n",
       "      <td>NaN</td>\n",
       "      <td>NaN</td>\n",
       "    </tr>\n",
       "  </tbody>\n",
       "</table>\n",
       "</div>"
      ],
      "text/plain": [
       "                national_inv  lead_time  in_transit_qty  forecast_3_month  \\\n",
       "sku                                                                         \n",
       "1373987                 -1.0        NaN             0.0               5.0   \n",
       "1524346                 -1.0        9.0             0.0               7.0   \n",
       "1439563                 62.0        9.0            16.0              39.0   \n",
       "1502009                 19.0        4.0             0.0               0.0   \n",
       "(1687860 rows)           NaN        NaN             NaN               NaN   \n",
       "\n",
       "                forecast_6_month  forecast_9_month  sales_1_month  \\\n",
       "sku                                                                 \n",
       "1373987                      7.0               9.0            1.0   \n",
       "1524346                      9.0              11.0            0.0   \n",
       "1439563                     87.0             126.0           35.0   \n",
       "1502009                      0.0               0.0            2.0   \n",
       "(1687860 rows)               NaN               NaN            NaN   \n",
       "\n",
       "                sales_3_month  sales_6_month  sales_9_month  min_bank  \\\n",
       "sku                                                                     \n",
       "1373987                   3.0            3.0            8.0       0.0   \n",
       "1524346                   8.0           11.0           12.0       0.0   \n",
       "1439563                  63.0          153.0          205.0      12.0   \n",
       "1502009                   7.0           12.0           20.0       1.0   \n",
       "(1687860 rows)            NaN            NaN            NaN       NaN   \n",
       "\n",
       "                pieces_past_due  perf_6_month_avg  perf_12_month_avg  \\\n",
       "sku                                                                    \n",
       "1373987                     0.0            -99.00             -99.00   \n",
       "1524346                     0.0              0.86               0.84   \n",
       "1439563                     0.0              0.86               0.84   \n",
       "1502009                     0.0              0.73               0.78   \n",
       "(1687860 rows)              NaN               NaN                NaN   \n",
       "\n",
       "                local_bo_qty  \n",
       "sku                           \n",
       "1373987                  1.0  \n",
       "1524346                  1.0  \n",
       "1439563                  6.0  \n",
       "1502009                  1.0  \n",
       "(1687860 rows)           NaN  "
      ]
     },
     "execution_count": 17,
     "metadata": {},
     "output_type": "execute_result"
    }
   ],
   "source": [
    "train[float_cols].tail()"
   ]
  },
  {
   "cell_type": "code",
   "execution_count": 18,
   "metadata": {},
   "outputs": [
    {
     "data": {
      "text/html": [
       "<div>\n",
       "<style>\n",
       "    .dataframe thead tr:only-child th {\n",
       "        text-align: right;\n",
       "    }\n",
       "\n",
       "    .dataframe thead th {\n",
       "        text-align: left;\n",
       "    }\n",
       "\n",
       "    .dataframe tbody tr th {\n",
       "        vertical-align: top;\n",
       "    }\n",
       "</style>\n",
       "<table border=\"1\" class=\"dataframe\">\n",
       "  <thead>\n",
       "    <tr style=\"text-align: right;\">\n",
       "      <th></th>\n",
       "      <th>potential_issue</th>\n",
       "      <th>deck_risk</th>\n",
       "      <th>oe_constraint</th>\n",
       "      <th>ppap_risk</th>\n",
       "      <th>stop_auto_buy</th>\n",
       "      <th>rev_stop</th>\n",
       "      <th>went_on_backorder</th>\n",
       "    </tr>\n",
       "    <tr>\n",
       "      <th>sku</th>\n",
       "      <th></th>\n",
       "      <th></th>\n",
       "      <th></th>\n",
       "      <th></th>\n",
       "      <th></th>\n",
       "      <th></th>\n",
       "      <th></th>\n",
       "    </tr>\n",
       "  </thead>\n",
       "  <tbody>\n",
       "    <tr>\n",
       "      <th>1373987</th>\n",
       "      <td>No</td>\n",
       "      <td>No</td>\n",
       "      <td>No</td>\n",
       "      <td>No</td>\n",
       "      <td>Yes</td>\n",
       "      <td>No</td>\n",
       "      <td>No</td>\n",
       "    </tr>\n",
       "    <tr>\n",
       "      <th>1524346</th>\n",
       "      <td>No</td>\n",
       "      <td>Yes</td>\n",
       "      <td>No</td>\n",
       "      <td>No</td>\n",
       "      <td>No</td>\n",
       "      <td>No</td>\n",
       "      <td>Yes</td>\n",
       "    </tr>\n",
       "    <tr>\n",
       "      <th>1439563</th>\n",
       "      <td>No</td>\n",
       "      <td>No</td>\n",
       "      <td>No</td>\n",
       "      <td>No</td>\n",
       "      <td>Yes</td>\n",
       "      <td>No</td>\n",
       "      <td>No</td>\n",
       "    </tr>\n",
       "    <tr>\n",
       "      <th>1502009</th>\n",
       "      <td>No</td>\n",
       "      <td>No</td>\n",
       "      <td>No</td>\n",
       "      <td>No</td>\n",
       "      <td>Yes</td>\n",
       "      <td>No</td>\n",
       "      <td>No</td>\n",
       "    </tr>\n",
       "    <tr>\n",
       "      <th>(1687860 rows)</th>\n",
       "      <td>NaN</td>\n",
       "      <td>NaN</td>\n",
       "      <td>NaN</td>\n",
       "      <td>NaN</td>\n",
       "      <td>NaN</td>\n",
       "      <td>NaN</td>\n",
       "      <td>NaN</td>\n",
       "    </tr>\n",
       "  </tbody>\n",
       "</table>\n",
       "</div>"
      ],
      "text/plain": [
       "               potential_issue deck_risk oe_constraint ppap_risk  \\\n",
       "sku                                                                \n",
       "1373987                     No        No            No        No   \n",
       "1524346                     No       Yes            No        No   \n",
       "1439563                     No        No            No        No   \n",
       "1502009                     No        No            No        No   \n",
       "(1687860 rows)             NaN       NaN           NaN       NaN   \n",
       "\n",
       "               stop_auto_buy rev_stop went_on_backorder  \n",
       "sku                                                      \n",
       "1373987                  Yes       No                No  \n",
       "1524346                   No       No               Yes  \n",
       "1439563                  Yes       No                No  \n",
       "1502009                  Yes       No                No  \n",
       "(1687860 rows)           NaN      NaN               NaN  "
      ]
     },
     "execution_count": 18,
     "metadata": {},
     "output_type": "execute_result"
    }
   ],
   "source": [
    "train[object_cols].tail()"
   ]
  },
  {
   "cell_type": "code",
   "execution_count": 19,
   "metadata": {},
   "outputs": [
    {
     "data": {
      "text/html": [
       "<div>\n",
       "<style>\n",
       "    .dataframe thead tr:only-child th {\n",
       "        text-align: right;\n",
       "    }\n",
       "\n",
       "    .dataframe thead th {\n",
       "        text-align: left;\n",
       "    }\n",
       "\n",
       "    .dataframe tbody tr th {\n",
       "        vertical-align: top;\n",
       "    }\n",
       "</style>\n",
       "<table border=\"1\" class=\"dataframe\">\n",
       "  <thead>\n",
       "    <tr style=\"text-align: right;\">\n",
       "      <th></th>\n",
       "      <th>national_inv</th>\n",
       "      <th>lead_time</th>\n",
       "      <th>in_transit_qty</th>\n",
       "      <th>forecast_3_month</th>\n",
       "      <th>forecast_6_month</th>\n",
       "      <th>forecast_9_month</th>\n",
       "      <th>sales_1_month</th>\n",
       "      <th>sales_3_month</th>\n",
       "      <th>sales_6_month</th>\n",
       "      <th>sales_9_month</th>\n",
       "      <th>min_bank</th>\n",
       "      <th>pieces_past_due</th>\n",
       "      <th>perf_6_month_avg</th>\n",
       "      <th>perf_12_month_avg</th>\n",
       "      <th>local_bo_qty</th>\n",
       "    </tr>\n",
       "    <tr>\n",
       "      <th>sku</th>\n",
       "      <th></th>\n",
       "      <th></th>\n",
       "      <th></th>\n",
       "      <th></th>\n",
       "      <th></th>\n",
       "      <th></th>\n",
       "      <th></th>\n",
       "      <th></th>\n",
       "      <th></th>\n",
       "      <th></th>\n",
       "      <th></th>\n",
       "      <th></th>\n",
       "      <th></th>\n",
       "      <th></th>\n",
       "      <th></th>\n",
       "    </tr>\n",
       "  </thead>\n",
       "  <tbody>\n",
       "    <tr>\n",
       "      <th>3526988</th>\n",
       "      <td>13.0</td>\n",
       "      <td>12.0</td>\n",
       "      <td>0.0</td>\n",
       "      <td>0.0</td>\n",
       "      <td>0.0</td>\n",
       "      <td>0.0</td>\n",
       "      <td>0.0</td>\n",
       "      <td>0.0</td>\n",
       "      <td>0.0</td>\n",
       "      <td>0.0</td>\n",
       "      <td>1.0</td>\n",
       "      <td>0.0</td>\n",
       "      <td>0.48</td>\n",
       "      <td>0.48</td>\n",
       "      <td>0.0</td>\n",
       "    </tr>\n",
       "    <tr>\n",
       "      <th>3526989</th>\n",
       "      <td>13.0</td>\n",
       "      <td>12.0</td>\n",
       "      <td>0.0</td>\n",
       "      <td>0.0</td>\n",
       "      <td>0.0</td>\n",
       "      <td>0.0</td>\n",
       "      <td>0.0</td>\n",
       "      <td>0.0</td>\n",
       "      <td>0.0</td>\n",
       "      <td>0.0</td>\n",
       "      <td>1.0</td>\n",
       "      <td>0.0</td>\n",
       "      <td>0.48</td>\n",
       "      <td>0.48</td>\n",
       "      <td>0.0</td>\n",
       "    </tr>\n",
       "    <tr>\n",
       "      <th>3526990</th>\n",
       "      <td>10.0</td>\n",
       "      <td>12.0</td>\n",
       "      <td>0.0</td>\n",
       "      <td>0.0</td>\n",
       "      <td>0.0</td>\n",
       "      <td>0.0</td>\n",
       "      <td>0.0</td>\n",
       "      <td>0.0</td>\n",
       "      <td>0.0</td>\n",
       "      <td>0.0</td>\n",
       "      <td>1.0</td>\n",
       "      <td>0.0</td>\n",
       "      <td>0.48</td>\n",
       "      <td>0.48</td>\n",
       "      <td>0.0</td>\n",
       "    </tr>\n",
       "    <tr>\n",
       "      <th>3526991</th>\n",
       "      <td>2913.0</td>\n",
       "      <td>12.0</td>\n",
       "      <td>0.0</td>\n",
       "      <td>0.0</td>\n",
       "      <td>0.0</td>\n",
       "      <td>0.0</td>\n",
       "      <td>0.0</td>\n",
       "      <td>30.0</td>\n",
       "      <td>88.0</td>\n",
       "      <td>88.0</td>\n",
       "      <td>4.0</td>\n",
       "      <td>0.0</td>\n",
       "      <td>0.48</td>\n",
       "      <td>0.48</td>\n",
       "      <td>0.0</td>\n",
       "    </tr>\n",
       "    <tr>\n",
       "      <th>(242075 rows)</th>\n",
       "      <td>NaN</td>\n",
       "      <td>NaN</td>\n",
       "      <td>NaN</td>\n",
       "      <td>NaN</td>\n",
       "      <td>NaN</td>\n",
       "      <td>NaN</td>\n",
       "      <td>NaN</td>\n",
       "      <td>NaN</td>\n",
       "      <td>NaN</td>\n",
       "      <td>NaN</td>\n",
       "      <td>NaN</td>\n",
       "      <td>NaN</td>\n",
       "      <td>NaN</td>\n",
       "      <td>NaN</td>\n",
       "      <td>NaN</td>\n",
       "    </tr>\n",
       "  </tbody>\n",
       "</table>\n",
       "</div>"
      ],
      "text/plain": [
       "               national_inv  lead_time  in_transit_qty  forecast_3_month  \\\n",
       "sku                                                                        \n",
       "3526988                13.0       12.0             0.0               0.0   \n",
       "3526989                13.0       12.0             0.0               0.0   \n",
       "3526990                10.0       12.0             0.0               0.0   \n",
       "3526991              2913.0       12.0             0.0               0.0   \n",
       "(242075 rows)           NaN        NaN             NaN               NaN   \n",
       "\n",
       "               forecast_6_month  forecast_9_month  sales_1_month  \\\n",
       "sku                                                                \n",
       "3526988                     0.0               0.0            0.0   \n",
       "3526989                     0.0               0.0            0.0   \n",
       "3526990                     0.0               0.0            0.0   \n",
       "3526991                     0.0               0.0            0.0   \n",
       "(242075 rows)               NaN               NaN            NaN   \n",
       "\n",
       "               sales_3_month  sales_6_month  sales_9_month  min_bank  \\\n",
       "sku                                                                    \n",
       "3526988                  0.0            0.0            0.0       1.0   \n",
       "3526989                  0.0            0.0            0.0       1.0   \n",
       "3526990                  0.0            0.0            0.0       1.0   \n",
       "3526991                 30.0           88.0           88.0       4.0   \n",
       "(242075 rows)            NaN            NaN            NaN       NaN   \n",
       "\n",
       "               pieces_past_due  perf_6_month_avg  perf_12_month_avg  \\\n",
       "sku                                                                   \n",
       "3526988                    0.0              0.48               0.48   \n",
       "3526989                    0.0              0.48               0.48   \n",
       "3526990                    0.0              0.48               0.48   \n",
       "3526991                    0.0              0.48               0.48   \n",
       "(242075 rows)              NaN               NaN                NaN   \n",
       "\n",
       "               local_bo_qty  \n",
       "sku                          \n",
       "3526988                 0.0  \n",
       "3526989                 0.0  \n",
       "3526990                 0.0  \n",
       "3526991                 0.0  \n",
       "(242075 rows)           NaN  "
      ]
     },
     "execution_count": 19,
     "metadata": {},
     "output_type": "execute_result"
    }
   ],
   "source": [
    "test[float_cols].tail()"
   ]
  },
  {
   "cell_type": "code",
   "execution_count": 20,
   "metadata": {},
   "outputs": [
    {
     "data": {
      "text/html": [
       "<div>\n",
       "<style>\n",
       "    .dataframe thead tr:only-child th {\n",
       "        text-align: right;\n",
       "    }\n",
       "\n",
       "    .dataframe thead th {\n",
       "        text-align: left;\n",
       "    }\n",
       "\n",
       "    .dataframe tbody tr th {\n",
       "        vertical-align: top;\n",
       "    }\n",
       "</style>\n",
       "<table border=\"1\" class=\"dataframe\">\n",
       "  <thead>\n",
       "    <tr style=\"text-align: right;\">\n",
       "      <th></th>\n",
       "      <th>potential_issue</th>\n",
       "      <th>deck_risk</th>\n",
       "      <th>oe_constraint</th>\n",
       "      <th>ppap_risk</th>\n",
       "      <th>stop_auto_buy</th>\n",
       "      <th>rev_stop</th>\n",
       "      <th>went_on_backorder</th>\n",
       "    </tr>\n",
       "    <tr>\n",
       "      <th>sku</th>\n",
       "      <th></th>\n",
       "      <th></th>\n",
       "      <th></th>\n",
       "      <th></th>\n",
       "      <th></th>\n",
       "      <th></th>\n",
       "      <th></th>\n",
       "    </tr>\n",
       "  </thead>\n",
       "  <tbody>\n",
       "    <tr>\n",
       "      <th>3526988</th>\n",
       "      <td>No</td>\n",
       "      <td>Yes</td>\n",
       "      <td>No</td>\n",
       "      <td>No</td>\n",
       "      <td>Yes</td>\n",
       "      <td>No</td>\n",
       "      <td>No</td>\n",
       "    </tr>\n",
       "    <tr>\n",
       "      <th>3526989</th>\n",
       "      <td>No</td>\n",
       "      <td>Yes</td>\n",
       "      <td>No</td>\n",
       "      <td>No</td>\n",
       "      <td>Yes</td>\n",
       "      <td>No</td>\n",
       "      <td>No</td>\n",
       "    </tr>\n",
       "    <tr>\n",
       "      <th>3526990</th>\n",
       "      <td>No</td>\n",
       "      <td>Yes</td>\n",
       "      <td>No</td>\n",
       "      <td>No</td>\n",
       "      <td>Yes</td>\n",
       "      <td>No</td>\n",
       "      <td>No</td>\n",
       "    </tr>\n",
       "    <tr>\n",
       "      <th>3526991</th>\n",
       "      <td>No</td>\n",
       "      <td>Yes</td>\n",
       "      <td>No</td>\n",
       "      <td>No</td>\n",
       "      <td>Yes</td>\n",
       "      <td>No</td>\n",
       "      <td>No</td>\n",
       "    </tr>\n",
       "    <tr>\n",
       "      <th>(242075 rows)</th>\n",
       "      <td>NaN</td>\n",
       "      <td>NaN</td>\n",
       "      <td>NaN</td>\n",
       "      <td>NaN</td>\n",
       "      <td>NaN</td>\n",
       "      <td>NaN</td>\n",
       "      <td>NaN</td>\n",
       "    </tr>\n",
       "  </tbody>\n",
       "</table>\n",
       "</div>"
      ],
      "text/plain": [
       "              potential_issue deck_risk oe_constraint ppap_risk stop_auto_buy  \\\n",
       "sku                                                                             \n",
       "3526988                    No       Yes            No        No           Yes   \n",
       "3526989                    No       Yes            No        No           Yes   \n",
       "3526990                    No       Yes            No        No           Yes   \n",
       "3526991                    No       Yes            No        No           Yes   \n",
       "(242075 rows)             NaN       NaN           NaN       NaN           NaN   \n",
       "\n",
       "              rev_stop went_on_backorder  \n",
       "sku                                       \n",
       "3526988             No                No  \n",
       "3526989             No                No  \n",
       "3526990             No                No  \n",
       "3526991             No                No  \n",
       "(242075 rows)      NaN               NaN  "
      ]
     },
     "execution_count": 20,
     "metadata": {},
     "output_type": "execute_result"
    }
   ],
   "source": [
    "test[object_cols].tail()"
   ]
  },
  {
   "cell_type": "markdown",
   "metadata": {},
   "source": [
    "<br>"
   ]
  },
  {
   "cell_type": "markdown",
   "metadata": {},
   "source": [
    "### Imputing missing values\n",
    "- \"lead_time\" and \"perf_month_avg\" have missing values. (NaN or -99.00)\n",
    "    - use imputer to fill this values with a new value.\n",
    "    - usually use mean or median. But have to decide \n",
    "- last data records from train & test have 'NaN' value, which is empty row. \n",
    "    - will drop it"
   ]
  },
  {
   "cell_type": "code",
   "execution_count": 21,
   "metadata": {},
   "outputs": [
    {
     "data": {
      "image/png": "[encoded data removed]",
      "text/plain": [
       "<matplotlib.figure.Figure at 0x1b49467dba8>"
      ]
     },
     "metadata": {},
     "output_type": "display_data"
    },
    {
     "name": "stdout",
     "output_type": "stream",
     "text": [
      "Median of lead_time : 8.0\n",
      "Mean of lead_time : 7.872267035168343\n"
     ]
    }
   ],
   "source": [
    "plt.figure(1)\n",
    "train.lead_time.hist()\n",
    "plt.axvline(train.lead_time.median(), \n",
    "            color=\"green\", \n",
    "            linewidth=2.0)\n",
    "plt.axvline(train.lead_time.mean(), \n",
    "            color=\"red\", \n",
    "            linestyle='dashed', \n",
    "            linewidth=2.0)\n",
    "plt.show()\n",
    "print(\"Median of lead_time : {}\".format(train.lead_time.median()))\n",
    "print(\"Mean of lead_time : {}\".format(train.lead_time.mean()))"
   ]
  },
  {
   "cell_type": "code",
   "execution_count": 22,
   "metadata": {},
   "outputs": [
    {
     "data": {
      "image/png": "[encoded data removed]",
      "text/plain": [
       "<matplotlib.figure.Figure at 0x1b494d087b8>"
      ]
     },
     "metadata": {},
     "output_type": "display_data"
    },
    {
     "name": "stdout",
     "output_type": "stream",
     "text": [
      "Median of perf_6_month_avg : 0.82\n",
      "Mean of perf_6_month_avg : -6.8720588378183045\n"
     ]
    },
    {
     "data": {
      "image/png": "[encoded data removed]",
      "text/plain": [
       "<matplotlib.figure.Figure at 0x1b494dacfd0>"
      ]
     },
     "metadata": {},
     "output_type": "display_data"
    },
    {
     "name": "stdout",
     "output_type": "stream",
     "text": [
      "Median of perf_12_month_avg : 0.81\n",
      "Mean of perf_12_month_avg : -6.437946743213299\n"
     ]
    }
   ],
   "source": [
    "plt.figure(1)\n",
    "train.perf_6_month_avg.hist()\n",
    "plt.axvline(train.perf_6_month_avg.median(), \n",
    "            color=\"green\", \n",
    "            linewidth=2.0)\n",
    "plt.axvline(train.perf_6_month_avg.mean(), \n",
    "            color=\"red\", \n",
    "            linestyle='dashed', \n",
    "            linewidth=2.0)\n",
    "plt.show()\n",
    "print(\"Median of perf_6_month_avg : {}\".format(train.perf_6_month_avg.median()))\n",
    "print(\"Mean of perf_6_month_avg : {}\".format(train.perf_6_month_avg.mean()))\n",
    "\n",
    "plt.figure(2)\n",
    "train.perf_12_month_avg.hist()\n",
    "plt.axvline(train.perf_12_month_avg.median(), \n",
    "            color=\"green\", \n",
    "            linewidth=2.0)\n",
    "plt.axvline(train.perf_12_month_avg.mean(), \n",
    "            color=\"red\", \n",
    "            linestyle='dashed', \n",
    "            linewidth=2.0)\n",
    "plt.show()\n",
    "print(\"Median of perf_12_month_avg : {}\".format(train.perf_12_month_avg.median()))\n",
    "print(\"Mean of perf_12_month_avg : {}\".format(train.perf_12_month_avg.mean()))"
   ]
  },
  {
   "cell_type": "code",
   "execution_count": 23,
   "metadata": {
    "collapsed": true
   },
   "outputs": [],
   "source": [
    "# choose median to imput missing values in 'lead_time'\n",
    "from sklearn.preprocessing import Imputer\n",
    "train['lead_time'] = Imputer(strategy='median').fit_transform(\n",
    "    train['lead_time'].values.reshape(-1,1))\n",
    "\n",
    "## test dataset's lead_time median is same with train set\n",
    "test['lead_time'] = Imputer(strategy='median').fit_transform(\n",
    "    test['lead_time'].values.reshape(-1,1))\n",
    "\n",
    "\n",
    "# drop NaN values\n",
    "train = train.dropna()\n",
    "test = test.dropna()\n",
    "\n",
    "\n",
    "# choose mean to imput missing values in 'perf_month_avg'\n",
    "for col in ['perf_6_month_avg', 'perf_12_month_avg']:\n",
    "        train[col] = Imputer(missing_values=-99).fit_transform(\n",
    "                                    train[col].values.reshape(-1, 1))\n",
    "\n",
    "## imput values in test set with same values in train set\n",
    "f6 = lambda x: -6.8720588378183045 if x == -99 else x\n",
    "test[\"perf_6_month_avg\"] = test[\"perf_6_month_avg\"].apply(f6)\n",
    "f12 = lambda x: -6.437946743213299 if x == -99 else x\n",
    "test[\"perf_12_month_avg\"] = test[\"perf_12_month_avg\"].apply(f12)"
   ]
  },
  {
   "cell_type": "markdown",
   "metadata": {},
   "source": [
    "### Convert to binaries\n",
    "- object dtype columns (except \"sku\") have 'Yes' or 'No'\n",
    "- look if it okay to convert into '1' and '0'"
   ]
  },
  {
   "cell_type": "code",
   "execution_count": 24,
   "metadata": {},
   "outputs": [
    {
     "data": {
      "text/html": [
       "<div>\n",
       "<style>\n",
       "    .dataframe thead tr:only-child th {\n",
       "        text-align: right;\n",
       "    }\n",
       "\n",
       "    .dataframe thead th {\n",
       "        text-align: left;\n",
       "    }\n",
       "\n",
       "    .dataframe tbody tr th {\n",
       "        vertical-align: top;\n",
       "    }\n",
       "</style>\n",
       "<table border=\"1\" class=\"dataframe\">\n",
       "  <thead>\n",
       "    <tr style=\"text-align: right;\">\n",
       "      <th></th>\n",
       "      <th>potential_issue</th>\n",
       "      <th>deck_risk</th>\n",
       "      <th>oe_constraint</th>\n",
       "      <th>ppap_risk</th>\n",
       "      <th>stop_auto_buy</th>\n",
       "      <th>rev_stop</th>\n",
       "      <th>went_on_backorder</th>\n",
       "    </tr>\n",
       "    <tr>\n",
       "      <th>sku</th>\n",
       "      <th></th>\n",
       "      <th></th>\n",
       "      <th></th>\n",
       "      <th></th>\n",
       "      <th></th>\n",
       "      <th></th>\n",
       "      <th></th>\n",
       "    </tr>\n",
       "  </thead>\n",
       "  <tbody>\n",
       "    <tr>\n",
       "      <th>1407754</th>\n",
       "      <td>0</td>\n",
       "      <td>1</td>\n",
       "      <td>0</td>\n",
       "      <td>0</td>\n",
       "      <td>1</td>\n",
       "      <td>0</td>\n",
       "      <td>0</td>\n",
       "    </tr>\n",
       "    <tr>\n",
       "      <th>1373987</th>\n",
       "      <td>0</td>\n",
       "      <td>0</td>\n",
       "      <td>0</td>\n",
       "      <td>0</td>\n",
       "      <td>1</td>\n",
       "      <td>0</td>\n",
       "      <td>0</td>\n",
       "    </tr>\n",
       "    <tr>\n",
       "      <th>1524346</th>\n",
       "      <td>0</td>\n",
       "      <td>1</td>\n",
       "      <td>0</td>\n",
       "      <td>0</td>\n",
       "      <td>0</td>\n",
       "      <td>0</td>\n",
       "      <td>1</td>\n",
       "    </tr>\n",
       "    <tr>\n",
       "      <th>1439563</th>\n",
       "      <td>0</td>\n",
       "      <td>0</td>\n",
       "      <td>0</td>\n",
       "      <td>0</td>\n",
       "      <td>1</td>\n",
       "      <td>0</td>\n",
       "      <td>0</td>\n",
       "    </tr>\n",
       "    <tr>\n",
       "      <th>1502009</th>\n",
       "      <td>0</td>\n",
       "      <td>0</td>\n",
       "      <td>0</td>\n",
       "      <td>0</td>\n",
       "      <td>1</td>\n",
       "      <td>0</td>\n",
       "      <td>0</td>\n",
       "    </tr>\n",
       "  </tbody>\n",
       "</table>\n",
       "</div>"
      ],
      "text/plain": [
       "         potential_issue  deck_risk  oe_constraint  ppap_risk  stop_auto_buy  \\\n",
       "sku                                                                            \n",
       "1407754                0          1              0          0              1   \n",
       "1373987                0          0              0          0              1   \n",
       "1524346                0          1              0          0              0   \n",
       "1439563                0          0              0          0              1   \n",
       "1502009                0          0              0          0              1   \n",
       "\n",
       "         rev_stop  went_on_backorder  \n",
       "sku                                   \n",
       "1407754         0                  0  \n",
       "1373987         0                  0  \n",
       "1524346         0                  1  \n",
       "1439563         0                  0  \n",
       "1502009         0                  0  "
      ]
     },
     "execution_count": 24,
     "metadata": {},
     "output_type": "execute_result"
    }
   ],
   "source": [
    "for i in object_cols:\n",
    "    train[i] = (train[i] == 'Yes').astype(int)\n",
    "    test[i] = (test[i] == 'Yes').astype(int)\n",
    "train[object_cols].tail()"
   ]
  },
  {
   "cell_type": "markdown",
   "metadata": {},
   "source": [
    "<br>\n",
    "<br>"
   ]
  },
  {
   "cell_type": "markdown",
   "metadata": {},
   "source": [
    "### Analyse target variable\n",
    "- the target variable is \"went_on_backorder\".\n",
    "- whether item is went on backorder or not. \n",
    "- classes are consist of 0 and 1"
   ]
  },
  {
   "cell_type": "markdown",
   "metadata": {},
   "source": [
    "#### Train set"
   ]
  },
  {
   "cell_type": "code",
   "execution_count": 25,
   "metadata": {},
   "outputs": [
    {
     "name": "stdout",
     "output_type": "stream",
     "text": [
      "Items not on backorder, Class 0: 1676567\n",
      "Items went on backorder, Class 1: 11293\n"
     ]
    },
    {
     "data": {
      "text/plain": [
       "0    1676567\n",
       "1      11293\n",
       "Name: went_on_backorder, dtype: int64"
      ]
     },
     "execution_count": 25,
     "metadata": {},
     "output_type": "execute_result"
    }
   ],
   "source": [
    "print(\"Items not on backorder, Class 0: {}\".format(train.went_on_backorder.value_counts()[0]))\n",
    "print(\"Items went on backorder, Class 1: {}\".format(train.went_on_backorder.value_counts()[1]))\n",
    "\n",
    "train.went_on_backorder.value_counts()"
   ]
  },
  {
   "cell_type": "code",
   "execution_count": 26,
   "metadata": {},
   "outputs": [
    {
     "name": "stdout",
     "output_type": "stream",
     "text": [
      "Proportion of items not on backorder: 99.33092792056213%\n",
      "Proportion of items went on backorder: 0.6690720794378681%\n"
     ]
    },
    {
     "data": {
      "image/png": "[encoded data removed]",
      "text/plain": [
       "<matplotlib.figure.Figure at 0x1b4953454a8>"
      ]
     },
     "metadata": {},
     "output_type": "display_data"
    }
   ],
   "source": [
    "print(\"Proportion of items not on backorder: {}%\".format(100*train.went_on_backorder.value_counts()[0]/len(train.went_on_backorder)))\n",
    "print(\"Proportion of items went on backorder: {}%\".format(100*train.went_on_backorder.value_counts()[1]/len(train.went_on_backorder)))\n",
    "train.went_on_backorder.hist()\n",
    "plt.show()"
   ]
  },
  {
   "cell_type": "markdown",
   "metadata": {},
   "source": [
    "#### Test set"
   ]
  },
  {
   "cell_type": "code",
   "execution_count": 27,
   "metadata": {},
   "outputs": [
    {
     "name": "stdout",
     "output_type": "stream",
     "text": [
      "Items not on backorder, Class 0: 239387\n",
      "Items went on backorder, Class 1: 2688\n"
     ]
    },
    {
     "data": {
      "text/plain": [
       "0    239387\n",
       "1      2688\n",
       "Name: went_on_backorder, dtype: int64"
      ]
     },
     "execution_count": 27,
     "metadata": {},
     "output_type": "execute_result"
    }
   ],
   "source": [
    "print(\"Items not on backorder, Class 0: {}\".format(test.went_on_backorder.value_counts()[0]))\n",
    "print(\"Items went on backorder, Class 1: {}\".format(test.went_on_backorder.value_counts()[1]))\n",
    "\n",
    "test.went_on_backorder.value_counts()"
   ]
  },
  {
   "cell_type": "code",
   "execution_count": 28,
   "metadata": {},
   "outputs": [
    {
     "name": "stdout",
     "output_type": "stream",
     "text": [
      "Proportion of items not on backorder: 98.88960033047609%\n",
      "Proportion of items went on backorder: 1.1103996695239078%\n"
     ]
    },
    {
     "data": {
      "image/png": "[encoded data removed]",
      "text/plain": [
       "<matplotlib.figure.Figure at 0x1b4953caeb8>"
      ]
     },
     "metadata": {},
     "output_type": "display_data"
    }
   ],
   "source": [
    "print(\"Proportion of items not on backorder: {}%\".format(100*test.went_on_backorder.value_counts()[0]/len(test.went_on_backorder)))\n",
    "print(\"Proportion of items went on backorder: {}%\".format(100*test.went_on_backorder.value_counts()[1]/len(test.went_on_backorder)))\n",
    "test.went_on_backorder.hist()\n",
    "plt.show()"
   ]
  },
  {
   "cell_type": "markdown",
   "metadata": {},
   "source": [
    "Both train set and test set have very small proportion of backordered items.\n",
    "\n",
    "Have to consider whether use supervised learning OR statistical approach(ex. gausian, anomaly detection, etc)."
   ]
  },
  {
   "cell_type": "markdown",
   "metadata": {
    "collapsed": true
   },
   "source": [
    "### Visualization\n",
    "- visualization of variables"
   ]
  },
  {
   "cell_type": "code",
   "execution_count": 29,
   "metadata": {},
   "outputs": [
    {
     "data": {
      "image/png": "[encoded data removed]",
      "text/plain": [
       "<matplotlib.figure.Figure at 0x1b495313fd0>"
      ]
     },
     "metadata": {},
     "output_type": "display_data"
    }
   ],
   "source": [
    "train.hist(figsize=(12,12), alpha=0.8, grid=False)\n",
    "plt.show()"
   ]
  },
  {
   "cell_type": "markdown",
   "metadata": {},
   "source": [
    "- even visualized, it is not easy to look.\n",
    "- may need normalizatioin on quantitative variables\n",
    "    - 'national_inv', 'in_transit_qty', 'forecast_3_month', 'forecast_6_month',  'forecast_9_month', 'min_bank', 'local_bo_qty', 'pieces_past_due', 'sales_1_month', 'sales_3_month', 'sales_6_month', 'sales_9_month'\n",
    "- 'perf_month_avg' variables are scaled distribution, so no need normalization\n",
    "- 'lead_time' is based on time. So not sure whether normalize or scale\n",
    "    - may just convert to log or sqrt"
   ]
  },
  {
   "cell_type": "markdown",
   "metadata": {},
   "source": [
    "### Merging train and test datasets before normalization"
   ]
  },
  {
   "cell_type": "code",
   "execution_count": 30,
   "metadata": {
    "collapsed": true
   },
   "outputs": [],
   "source": [
    "df = pd.concat([train, test])"
   ]
  },
  {
   "cell_type": "code",
   "execution_count": 31,
   "metadata": {},
   "outputs": [
    {
     "name": "stdout",
     "output_type": "stream",
     "text": [
      "(1929935, 22)\n"
     ]
    },
    {
     "data": {
      "text/html": [
       "<div>\n",
       "<style>\n",
       "    .dataframe thead tr:only-child th {\n",
       "        text-align: right;\n",
       "    }\n",
       "\n",
       "    .dataframe thead th {\n",
       "        text-align: left;\n",
       "    }\n",
       "\n",
       "    .dataframe tbody tr th {\n",
       "        vertical-align: top;\n",
       "    }\n",
       "</style>\n",
       "<table border=\"1\" class=\"dataframe\">\n",
       "  <thead>\n",
       "    <tr style=\"text-align: right;\">\n",
       "      <th></th>\n",
       "      <th>national_inv</th>\n",
       "      <th>lead_time</th>\n",
       "      <th>in_transit_qty</th>\n",
       "      <th>forecast_3_month</th>\n",
       "      <th>forecast_6_month</th>\n",
       "      <th>forecast_9_month</th>\n",
       "      <th>sales_1_month</th>\n",
       "      <th>sales_3_month</th>\n",
       "      <th>sales_6_month</th>\n",
       "      <th>sales_9_month</th>\n",
       "      <th>...</th>\n",
       "      <th>pieces_past_due</th>\n",
       "      <th>perf_6_month_avg</th>\n",
       "      <th>perf_12_month_avg</th>\n",
       "      <th>local_bo_qty</th>\n",
       "      <th>deck_risk</th>\n",
       "      <th>oe_constraint</th>\n",
       "      <th>ppap_risk</th>\n",
       "      <th>stop_auto_buy</th>\n",
       "      <th>rev_stop</th>\n",
       "      <th>went_on_backorder</th>\n",
       "    </tr>\n",
       "    <tr>\n",
       "      <th>sku</th>\n",
       "      <th></th>\n",
       "      <th></th>\n",
       "      <th></th>\n",
       "      <th></th>\n",
       "      <th></th>\n",
       "      <th></th>\n",
       "      <th></th>\n",
       "      <th></th>\n",
       "      <th></th>\n",
       "      <th></th>\n",
       "      <th></th>\n",
       "      <th></th>\n",
       "      <th></th>\n",
       "      <th></th>\n",
       "      <th></th>\n",
       "      <th></th>\n",
       "      <th></th>\n",
       "      <th></th>\n",
       "      <th></th>\n",
       "      <th></th>\n",
       "      <th></th>\n",
       "    </tr>\n",
       "  </thead>\n",
       "  <tbody>\n",
       "    <tr>\n",
       "      <th>3526987</th>\n",
       "      <td>12.0</td>\n",
       "      <td>12.0</td>\n",
       "      <td>0.0</td>\n",
       "      <td>0.0</td>\n",
       "      <td>0.0</td>\n",
       "      <td>0.0</td>\n",
       "      <td>0.0</td>\n",
       "      <td>0.0</td>\n",
       "      <td>0.0</td>\n",
       "      <td>0.0</td>\n",
       "      <td>...</td>\n",
       "      <td>0.0</td>\n",
       "      <td>0.48</td>\n",
       "      <td>0.48</td>\n",
       "      <td>0.0</td>\n",
       "      <td>1</td>\n",
       "      <td>0</td>\n",
       "      <td>0</td>\n",
       "      <td>1</td>\n",
       "      <td>0</td>\n",
       "      <td>0</td>\n",
       "    </tr>\n",
       "    <tr>\n",
       "      <th>3526988</th>\n",
       "      <td>13.0</td>\n",
       "      <td>12.0</td>\n",
       "      <td>0.0</td>\n",
       "      <td>0.0</td>\n",
       "      <td>0.0</td>\n",
       "      <td>0.0</td>\n",
       "      <td>0.0</td>\n",
       "      <td>0.0</td>\n",
       "      <td>0.0</td>\n",
       "      <td>0.0</td>\n",
       "      <td>...</td>\n",
       "      <td>0.0</td>\n",
       "      <td>0.48</td>\n",
       "      <td>0.48</td>\n",
       "      <td>0.0</td>\n",
       "      <td>1</td>\n",
       "      <td>0</td>\n",
       "      <td>0</td>\n",
       "      <td>1</td>\n",
       "      <td>0</td>\n",
       "      <td>0</td>\n",
       "    </tr>\n",
       "    <tr>\n",
       "      <th>3526989</th>\n",
       "      <td>13.0</td>\n",
       "      <td>12.0</td>\n",
       "      <td>0.0</td>\n",
       "      <td>0.0</td>\n",
       "      <td>0.0</td>\n",
       "      <td>0.0</td>\n",
       "      <td>0.0</td>\n",
       "      <td>0.0</td>\n",
       "      <td>0.0</td>\n",
       "      <td>0.0</td>\n",
       "      <td>...</td>\n",
       "      <td>0.0</td>\n",
       "      <td>0.48</td>\n",
       "      <td>0.48</td>\n",
       "      <td>0.0</td>\n",
       "      <td>1</td>\n",
       "      <td>0</td>\n",
       "      <td>0</td>\n",
       "      <td>1</td>\n",
       "      <td>0</td>\n",
       "      <td>0</td>\n",
       "    </tr>\n",
       "    <tr>\n",
       "      <th>3526990</th>\n",
       "      <td>10.0</td>\n",
       "      <td>12.0</td>\n",
       "      <td>0.0</td>\n",
       "      <td>0.0</td>\n",
       "      <td>0.0</td>\n",
       "      <td>0.0</td>\n",
       "      <td>0.0</td>\n",
       "      <td>0.0</td>\n",
       "      <td>0.0</td>\n",
       "      <td>0.0</td>\n",
       "      <td>...</td>\n",
       "      <td>0.0</td>\n",
       "      <td>0.48</td>\n",
       "      <td>0.48</td>\n",
       "      <td>0.0</td>\n",
       "      <td>1</td>\n",
       "      <td>0</td>\n",
       "      <td>0</td>\n",
       "      <td>1</td>\n",
       "      <td>0</td>\n",
       "      <td>0</td>\n",
       "    </tr>\n",
       "    <tr>\n",
       "      <th>3526991</th>\n",
       "      <td>2913.0</td>\n",
       "      <td>12.0</td>\n",
       "      <td>0.0</td>\n",
       "      <td>0.0</td>\n",
       "      <td>0.0</td>\n",
       "      <td>0.0</td>\n",
       "      <td>0.0</td>\n",
       "      <td>30.0</td>\n",
       "      <td>88.0</td>\n",
       "      <td>88.0</td>\n",
       "      <td>...</td>\n",
       "      <td>0.0</td>\n",
       "      <td>0.48</td>\n",
       "      <td>0.48</td>\n",
       "      <td>0.0</td>\n",
       "      <td>1</td>\n",
       "      <td>0</td>\n",
       "      <td>0</td>\n",
       "      <td>1</td>\n",
       "      <td>0</td>\n",
       "      <td>0</td>\n",
       "    </tr>\n",
       "  </tbody>\n",
       "</table>\n",
       "<p>5 rows × 22 columns</p>\n",
       "</div>"
      ],
      "text/plain": [
       "         national_inv  lead_time  in_transit_qty  forecast_3_month  \\\n",
       "sku                                                                  \n",
       "3526987          12.0       12.0             0.0               0.0   \n",
       "3526988          13.0       12.0             0.0               0.0   \n",
       "3526989          13.0       12.0             0.0               0.0   \n",
       "3526990          10.0       12.0             0.0               0.0   \n",
       "3526991        2913.0       12.0             0.0               0.0   \n",
       "\n",
       "         forecast_6_month  forecast_9_month  sales_1_month  sales_3_month  \\\n",
       "sku                                                                         \n",
       "3526987               0.0               0.0            0.0            0.0   \n",
       "3526988               0.0               0.0            0.0            0.0   \n",
       "3526989               0.0               0.0            0.0            0.0   \n",
       "3526990               0.0               0.0            0.0            0.0   \n",
       "3526991               0.0               0.0            0.0           30.0   \n",
       "\n",
       "         sales_6_month  sales_9_month        ...          pieces_past_due  \\\n",
       "sku                                          ...                            \n",
       "3526987            0.0            0.0        ...                      0.0   \n",
       "3526988            0.0            0.0        ...                      0.0   \n",
       "3526989            0.0            0.0        ...                      0.0   \n",
       "3526990            0.0            0.0        ...                      0.0   \n",
       "3526991           88.0           88.0        ...                      0.0   \n",
       "\n",
       "         perf_6_month_avg  perf_12_month_avg  local_bo_qty  deck_risk  \\\n",
       "sku                                                                     \n",
       "3526987              0.48               0.48           0.0          1   \n",
       "3526988              0.48               0.48           0.0          1   \n",
       "3526989              0.48               0.48           0.0          1   \n",
       "3526990              0.48               0.48           0.0          1   \n",
       "3526991              0.48               0.48           0.0          1   \n",
       "\n",
       "         oe_constraint  ppap_risk  stop_auto_buy  rev_stop  went_on_backorder  \n",
       "sku                                                                            \n",
       "3526987              0          0              1         0                  0  \n",
       "3526988              0          0              1         0                  0  \n",
       "3526989              0          0              1         0                  0  \n",
       "3526990              0          0              1         0                  0  \n",
       "3526991              0          0              1         0                  0  \n",
       "\n",
       "[5 rows x 22 columns]"
      ]
     },
     "execution_count": 31,
     "metadata": {},
     "output_type": "execute_result"
    }
   ],
   "source": [
    "print(df.shape)\n",
    "df.tail()"
   ]
  },
  {
   "cell_type": "code",
   "execution_count": 32,
   "metadata": {},
   "outputs": [
    {
     "name": "stdout",
     "output_type": "stream",
     "text": [
      "(1687860, 22)\n",
      "(242075, 22)\n"
     ]
    }
   ],
   "source": [
    "print(pd.DataFrame(df, index = train.index).shape)\n",
    "print(pd.DataFrame(df, index = test.index).shape)"
   ]
  },
  {
   "cell_type": "markdown",
   "metadata": {},
   "source": [
    "### Normalization\n",
    "- quantities of each items are various. \n",
    "- need to be normalized to look data easily"
   ]
  },
  {
   "cell_type": "code",
   "execution_count": 33,
   "metadata": {},
   "outputs": [
    {
     "data": {
      "image/png": "[encoded data removed]",
      "text/plain": [
       "<matplotlib.figure.Figure at 0x1b494d2e7b8>"
      ]
     },
     "metadata": {},
     "output_type": "display_data"
    }
   ],
   "source": [
    "qty_cols = ['national_inv', 'in_transit_qty', 'forecast_3_month', \n",
    "            'forecast_6_month', 'forecast_9_month', 'min_bank', \n",
    "            'local_bo_qty', 'pieces_past_due', 'sales_1_month', \n",
    "            'sales_3_month', 'sales_6_month', 'sales_9_month']\n",
    "\n",
    "from sklearn.preprocessing import normalize\n",
    "df[qty_cols] = normalize(df[qty_cols], axis=1)\n",
    "df[qty_cols].hist(figsize=(10,11), color='orange', grid=False)\n",
    "plt.show()"
   ]
  },
  {
   "cell_type": "markdown",
   "metadata": {},
   "source": [
    "There are too many 0 values in \"sales_month\" & \"forecast_month\" variables.\n",
    "May this means that some items have no past sales or forecast.\n",
    "And maybe these items also take large part of \"national_inv\"."
   ]
  },
  {
   "cell_type": "code",
   "execution_count": 34,
   "metadata": {
    "collapsed": true
   },
   "outputs": [],
   "source": [
    "train_1 = pd.DataFrame(df, index = train.index)\n",
    "test_1 = pd.DataFrame(df, index = test.index)"
   ]
  },
  {
   "cell_type": "markdown",
   "metadata": {
    "collapsed": true
   },
   "source": [
    "### Obsolete inventory\n",
    "There are so many items with 0 (no past sales or forecast).\n",
    "    - found out that these kind of items are defined as obsolete inventory or obsolete parts.\n",
    "    - which is materials that have no transactions in the last months, so have no forecast.\n",
    "As a solution of this problem, will select only **ACTIVE** items, and use as alternative\n",
    "- items selected based on the following rule: **\"forecast_3_month\" > 0 AND \"sales_9_month\" > 0**"
   ]
  },
  {
   "cell_type": "code",
   "execution_count": 35,
   "metadata": {},
   "outputs": [
    {
     "name": "stdout",
     "output_type": "stream",
     "text": [
      "Original dataset shape Counter({0: 1676567, 1: 11293})\n",
      "Reduced dataset shape Counter({0: 423032, 1: 8414})\n",
      "Class 0 reduction: 74.77%\n",
      "Class 1 reduction: 25.49%\n"
     ]
    }
   ],
   "source": [
    "actives = train_1.loc[(train_1[\"forecast_3_month\"]>0)&(train_1[\"sales_9_month\"]>0)]\n",
    "from collections import Counter\n",
    "print('Original dataset shape {}'.format(Counter(train_1.went_on_backorder)))\n",
    "print('Reduced dataset shape {}'.format(Counter(actives.went_on_backorder)))\n",
    "print('Class 0 reduction: %.2f%%' % (100*(1 - Counter(actives.went_on_backorder)[0]/Counter(train_1.went_on_backorder)[0])))\n",
    "print('Class 1 reduction: %.2f%%' % (100*(1 - Counter(actives.went_on_backorder)[1]/Counter(train_1.went_on_backorder)[1])))"
   ]
  },
  {
   "cell_type": "code",
   "execution_count": 36,
   "metadata": {},
   "outputs": [
    {
     "data": {
      "image/png": "[encoded data removed]",
      "text/plain": [
       "<matplotlib.figure.Figure at 0x1b4ac824f60>"
      ]
     },
     "metadata": {},
     "output_type": "display_data"
    }
   ],
   "source": [
    "actives[qty_cols].hist(figsize=(10,11), alpha=0.7, color='green', grid=False)\n",
    "plt.show()"
   ]
  },
  {
   "cell_type": "code",
   "execution_count": 37,
   "metadata": {
    "scrolled": false
   },
   "outputs": [
    {
     "data": {
      "image/png": "[encoded data removed]",
      "text/plain": [
       "<matplotlib.figure.Figure at 0x1b494699780>"
      ]
     },
     "metadata": {},
     "output_type": "display_data"
    }
   ],
   "source": [
    "actives.hist(figsize=(12,12), alpha=0.8, grid=False)\n",
    "plt.show()"
   ]
  },
  {
   "cell_type": "markdown",
   "metadata": {
    "_cell_guid": "39755a15-3fd4-e485-4fd6-ad5faa1205df"
   },
   "source": [
    "This approach reduced the original dominant classes by 75%, while just loosing 25% of the class 1.\n",
    "\n",
    "But could use a less aggressive approach, adopting the rule **\"forecast_3_month > 0\" OR \"sales_9_month > 0\"**"
   ]
  },
  {
   "cell_type": "code",
   "execution_count": 38,
   "metadata": {
    "_cell_guid": "01aa96f3-b096-a145-75cb-080302770e6c",
    "scrolled": true
   },
   "outputs": [
    {
     "name": "stdout",
     "output_type": "stream",
     "text": [
      "Original dataset shape Counter({0: 1676567, 1: 11293})\n",
      "Reduced dataset shape Counter({0: 1169554, 1: 11004})\n",
      "Class 0 reduction: 30.24%\n",
      "Class 1 reduction: 2.56%\n"
     ]
    }
   ],
   "source": [
    "actives2 = train_1.loc[(train_1[\"forecast_3_month\"]>0)|(train_1[\"sales_9_month\"]>0)]\n",
    "from collections import Counter\n",
    "print('Original dataset shape {}'.format(Counter(train_1.went_on_backorder)))\n",
    "print('Reduced dataset shape {}'.format(Counter(actives2.went_on_backorder)))\n",
    "print('Class 0 reduction: %.2f%%' % (100*(1 - Counter(actives2.went_on_backorder)[0]/Counter(train_1.went_on_backorder)[0])))\n",
    "print('Class 1 reduction: %.2f%%' % (100*(1 - Counter(actives2.went_on_backorder)[1]/Counter(train_1.went_on_backorder)[1])))"
   ]
  },
  {
   "cell_type": "markdown",
   "metadata": {
    "_cell_guid": "ac4de9c1-975e-8915-5edf-edbfa23a683e"
   },
   "source": [
    "Now the reduction in dominant class is 15x higher than in the class 1.\n",
    "\n",
    "Using this may save some computing time and also presenting a cleaner dataset for the predictive model.\n",
    "\n",
    "May use this rule or not in model."
   ]
  },
  {
   "cell_type": "markdown",
   "metadata": {},
   "source": [
    "<br>"
   ]
  },
  {
   "cell_type": "markdown",
   "metadata": {},
   "source": [
    "#### Serialize data and save in file\n",
    "- serialize dataframe and save into file\n",
    "- to use for modeling"
   ]
  },
  {
   "cell_type": "code",
   "execution_count": 56,
   "metadata": {},
   "outputs": [],
   "source": [
    "import pickle\n",
    "pickle.dump([train,test,df,train_1,test_1,actives,actives2], open('save.p', 'wb'))"
   ]
  },
  {
   "cell_type": "markdown",
   "metadata": {},
   "source": [
    "<br>"
   ]
  },
  {
   "cell_type": "markdown",
   "metadata": {
    "collapsed": true
   },
   "source": [
    "### Some result from EDA\n",
    "Through exploratory data analysis with plotting data.\n",
    "\n",
    "Found out some useful insight about data.\n",
    "- between \"national_inv\" and \"local_bo_qty\" show some relation.\n",
    "- no \"went_on_backorder\" items have \"rev_stop\" issue, which means those are only in class 0"
   ]
  },
  {
   "cell_type": "code",
   "execution_count": 39,
   "metadata": {},
   "outputs": [
    {
     "data": {
      "image/png": "[encoded data removed]",
      "text/plain": [
       "<matplotlib.figure.Figure at 0x1b4a8f842b0>"
      ]
     },
     "metadata": {},
     "output_type": "display_data"
    }
   ],
   "source": [
    "def plotData(myX, x, y, newFig=False):\n",
    "    if newFig:\n",
    "        plt.figure(figsize=(8,6))\n",
    "    plt.figure(figsize=(10,8))\n",
    "    plt.scatter(np.sqrt(myX.iloc[:,x]),(myX.iloc[:,y]), alpha=0.3)\n",
    "    plt.scatter(\n",
    "        np.sqrt(actives2.loc[actives2['went_on_backorder']==1].iloc[:,x]),\n",
    "        (actives2.loc[actives2['went_on_backorder']==1].iloc[:,y]),\n",
    "        s=300, c=\"r\", alpha=0.5\n",
    "    )\n",
    "    plt.xlabel('{}'.format(myX.columns[x]),fontsize=16)\n",
    "    plt.ylabel('{}'.format(myX.columns[y]),fontsize=16)\n",
    "    plt.grid(True)\n",
    "plotData(actives2, 15, 0)\n",
    "plt.show()"
   ]
  },
  {
   "cell_type": "code",
   "execution_count": 42,
   "metadata": {},
   "outputs": [
    {
     "data": {
      "text/plain": [
       "<matplotlib.figure.Figure at 0x1b4a99cfb00>"
      ]
     },
     "metadata": {},
     "output_type": "display_data"
    },
    {
     "data": {
      "image/png": "[encoded data removed]",
      "text/plain": [
       "<matplotlib.figure.Figure at 0x1b4a99ea630>"
      ]
     },
     "metadata": {},
     "output_type": "display_data"
    }
   ],
   "source": [
    "plotData(train, 20, 21, newFig=True)\n",
    "plt.show()"
   ]
  }
 ],
 "metadata": {
  "kernelspec": {
   "display_name": "Python 3",
   "language": "python",
   "name": "python3"
  },
  "language_info": {
   "codemirror_mode": {
    "name": "ipython",
    "version": 3
   },
   "file_extension": ".py",
   "mimetype": "text/x-python",
   "name": "python",
   "nbconvert_exporter": "python",
   "pygments_lexer": "ipython3",
   "version": "3.6.1"
  }
 },
 "nbformat": 4,
 "nbformat_minor": 2
}
